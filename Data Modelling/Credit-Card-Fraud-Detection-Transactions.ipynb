{
 "cells": [
  {
   "cell_type": "markdown",
   "id": "e35932b0",
   "metadata": {},
   "source": [
    "<div style=\"padding:20px;color:White;margin:0;font-size:150%;text-align:center;display:fill;border-radius:5px;background-color:#3474eb;overflow:hidden;font-weight:600\">Credit Card Fraud Detection |\n",
    "    Transactions and Protection  \n",
    "</div>\n",
    "Flask application for feature analysis involving machine learning algorithms to detect fraud within credit card transactions; with the additional feature⎯a recommender system for fraud protection services.\n",
    "​ \n",
    "​\n",
    "​   \n",
    "<div id='imports'\n",
    "     style = \"display: fill;\n",
    "              border-radius: 5px;\n",
    "              background-color: #86a0cf;\">\n",
    "    <h2 style = \"padding: 20px; \n",
    "                 color: White;\n",
    "                 text-align: left;\n",
    "                 font-family: Trebuchet MS;\">Table of Contents\n",
    "    </h2>\n",
    "</div>\n",
    "\n",
    "<a id=\"toc\"></a>\n",
    "\n",
    "\n",
    "- [1. Exploratory Data Analysis](#1)\n",
    "    - 1.1 What is LightGBM\n",
    "    - 1.2 Why LightGBM\n",
    "    - 1.3 Three Question to answer\n",
    "        \n",
    "        \n",
    "- [2. Preprocessing](#2)\n",
    "    - 2.1 XGBoost profile\n",
    "    - 2.2 Difference between LightGBM and XGBoost\n",
    "    \n",
    "  \n",
    "- [3. Feature Engineering](#3)\n",
    "    - 3.1 Reduce splitting points: Histogram algorithm\n",
    "    - 3.2 Reduce samples: GOSS\n",
    "    - 3.3 Reduce features: EFB\n",
    "    - 3.4 Tree generating strategy: Leaf-wise\n",
    "\n",
    "\n",
    "- [4. Hyperparameter Tuning](#4)\n",
    "    - 4.1 Mainly hyperparameter\n",
    "    - 4.2 Parameter adjustment in practice\n",
    " \n",
    " \n",
    "- [5. Model Testing](#5)\n",
    "    - 5.1 \n",
    "    - 5.2 \n",
    "  \n",
    "  \n",
    "- [6. Model Evaluation](#6)\n",
    "    - 6.1 \n",
    "    - 6.2 "
   ]
  },
  {
   "cell_type": "markdown",
   "id": "3c447611",
   "metadata": {},
   "source": [
    "\n",
    "<div id = 'job_title'\n",
    "     style = \"display: fill;\n",
    "              border-radius: 10px;\n",
    "              background-color: #CE7BB0;\">\n",
    "    <h3 style = \"padding: 15px; \n",
    "                 color: White;\n",
    "                 text-align:left;\n",
    "                 font-family: Trebuchet MS;\">1.  Exploratory Data Analysis\n",
    "    </h3>\n",
    "</div>"
   ]
  },
  {
   "cell_type": "code",
   "execution_count": 16,
   "id": "7f65ecfa",
   "metadata": {},
   "outputs": [],
   "source": [
    "import sys\n",
    "import seaborn as sns\n",
    "import pandas as pd\n",
    "import os, glob, pickle\n",
    "import numpy as np\n",
    "import matplotlib as plt\n",
    "import lightgbm as lgb\n",
    "import sklearn\n",
    "from sklearn.model_selection import train_test_split\n",
    "from sklearn.metrics import classification_report\n",
    "from lightgbm import plot_importance\n",
    "%matplotlib inline\n",
    "\n",
    "import kaggle\n",
    "from kaggle.api.kaggle_api_extended import KaggleApi\n",
    "from sklearn import datasets"
   ]
  },
  {
   "cell_type": "code",
   "execution_count": 17,
   "id": "3498a131",
   "metadata": {},
   "outputs": [],
   "source": [
    "cct1 = pd.read_csv('/Users/jasonrobinson/Documents/Projects/All Data/cc-transact-csv/User0_credit_card_transactions.csv')\n",
    "cct2 =  pd.read_csv('/Users/jasonrobinson/Documents/Projects/All Data/cc-transact-csv/credit_card_transactions-ibm_v2.csv')\n",
    "cards = pd.read_csv('/Users/jasonrobinson/Documents/Projects/All Data/cc-transact-csv/sd254_cards.csv')\n",
    "users = pd.read_csv('/Users/jasonrobinson/Documents/Projects/All Data/cc-transact-csv/sd254_users.csv')"
   ]
  },
  {
   "cell_type": "code",
   "execution_count": 18,
   "id": "aecf5b62",
   "metadata": {},
   "outputs": [],
   "source": [
    "# Tap into our kaggle api to download our dataset for training\n",
    "#api = KaggleApi()\n",
    "#api.authenticate()\n",
    "#api.dataset_download_files('credit_card_transactions-ibm_v2', path='data')"
   ]
  },
  {
   "cell_type": "code",
   "execution_count": null,
   "id": "eefb5034",
   "metadata": {},
   "outputs": [],
   "source": [
    "# Extract the dataset\n",
    "#import zipfile\n",
    "#with zipfile.ZipFile('data/speech-emotion-recognition-ravdess-data.zip', 'r') as zip_ref:\n",
    "#    zip_ref.extractall('data')"
   ]
  },
  {
   "cell_type": "code",
   "execution_count": null,
   "id": "c387d840",
   "metadata": {},
   "outputs": [],
   "source": [
    "# Load the data and extract features for each sound file\n",
    "#def load_data(test_size=0.2):\n",
    "#    x, y = [], []\n",
    "#    for file in glob.glob(\"data/Actor_*/*.wav\"):\n",
    "#        file_name = os.path.basename(file)\n",
    "#        emotion = int(file_name.split(\"-\")[2])\n",
    "#        feature = extract_feature(file, mfcc=True, chroma=True, mel=True)\n",
    "#        x.append(feature)\n",
    "#        y.append(emotion)\n",
    "#    return train_test_split(np.array(x), y, test_size=test_size, random_state=9)"
   ]
  },
  {
   "cell_type": "markdown",
   "id": "fb4c9329",
   "metadata": {},
   "source": [
    "\n",
    "<div id = 'job_title'\n",
    "     style = \"display: fill;\n",
    "              border-radius: 10px;\n",
    "              background-color: #86cfb1;\">\n",
    "    <h3 style = \"padding: 15px; \n",
    "                 color: White;\n",
    "                 text-align:left;\n",
    "                 font-family: Trebuchet MS;\">2.  Preprocessing\n",
    "    </h3>\n",
    "</div>"
   ]
  },
  {
   "cell_type": "code",
   "execution_count": null,
   "id": "ca583fd8",
   "metadata": {},
   "outputs": [],
   "source": []
  },
  {
   "cell_type": "markdown",
   "id": "a1d855f9",
   "metadata": {},
   "source": [
    "\n",
    "<div id = 'job_title'\n",
    "     style = \"display: fill;\n",
    "              border-radius: 10px;\n",
    "              background-color: #cf9886;\">\n",
    "    <h3 style = \"padding: 15px; \n",
    "                 color: White;\n",
    "                 text-align:left;\n",
    "                 font-family: Trebuchet MS;\">3.  Feature Engineering\n",
    "    </h3>\n",
    "</div>"
   ]
  },
  {
   "cell_type": "code",
   "execution_count": null,
   "id": "5bc80b84",
   "metadata": {},
   "outputs": [],
   "source": []
  },
  {
   "cell_type": "markdown",
   "id": "9f563687",
   "metadata": {},
   "source": [
    "\n",
    "<div id = 'job_title'\n",
    "     style = \"display: fill;\n",
    "              border-radius: 10px;\n",
    "              background-color: #6f79d1;\">\n",
    "    <h3 style = \"padding: 15px; \n",
    "                 color: White;\n",
    "                 text-align:left;\n",
    "                 font-family: Trebuchet MS;\">4.  Hyperparameter Tuning\n",
    "    </h3>\n",
    "</div>"
   ]
  },
  {
   "cell_type": "code",
   "execution_count": null,
   "id": "19bc1fd5",
   "metadata": {},
   "outputs": [],
   "source": []
  },
  {
   "cell_type": "markdown",
   "id": "b233c1dc",
   "metadata": {},
   "source": [
    "\n",
    "<div id = 'job_title'\n",
    "     style = \"display: fill;\n",
    "              border-radius: 10px;\n",
    "              background-color: #636361;\">\n",
    "    <h3 style = \"padding: 15px; \n",
    "                 color: White;\n",
    "                 text-align:left;\n",
    "                 font-family: Trebuchet MS;\">5. Model Testing\n",
    "    </h3>\n",
    "</div>"
   ]
  },
  {
   "cell_type": "code",
   "execution_count": null,
   "id": "7fab2fc2",
   "metadata": {},
   "outputs": [],
   "source": []
  },
  {
   "cell_type": "markdown",
   "id": "b982408a",
   "metadata": {},
   "source": [
    "<div id = 'job_title'\n",
    "     style = \"display: fill;\n",
    "              border-radius: 10px;\n",
    "              background-color: #517575;\">\n",
    "    <h3 style = \"padding: 15px; \n",
    "                 color: White;\n",
    "                 text-align:left;\n",
    "                 font-family: Trebuchet MS;\">6.  Model Evaluation\n",
    "    </h3>\n",
    "</div>"
   ]
  },
  {
   "cell_type": "code",
   "execution_count": null,
   "id": "d677d31e",
   "metadata": {},
   "outputs": [],
   "source": []
  }
 ],
 "metadata": {
  "kernelspec": {
   "display_name": "NNse",
   "language": "python",
   "name": "u4-s1-nns"
  },
  "language_info": {
   "codemirror_mode": {
    "name": "ipython",
    "version": 3
   },
   "file_extension": ".py",
   "mimetype": "text/x-python",
   "name": "python",
   "nbconvert_exporter": "python",
   "pygments_lexer": "ipython3",
   "version": "3.8.5"
  }
 },
 "nbformat": 4,
 "nbformat_minor": 5
}
