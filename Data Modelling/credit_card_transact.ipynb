{
 "cells": [
  {
   "cell_type": "code",
   "execution_count": null,
   "metadata": {},
   "outputs": [],
   "source": [
    "pip install bayes_opt"
   ]
  },
  {
   "cell_type": "code",
   "execution_count": 3,
   "metadata": {},
   "outputs": [],
   "source": [
    "from scipy import stats"
   ]
  },
  {
   "cell_type": "code",
   "execution_count": 7,
   "metadata": {},
   "outputs": [
    {
     "ename": "NameError",
     "evalue": "name 'scipy__version__' is not defined",
     "output_type": "error",
     "traceback": [
      "\u001b[0;31m---------------------------------------------------------------------------\u001b[0m",
      "\u001b[0;31mNameError\u001b[0m                                 Traceback (most recent call last)",
      "\u001b[0;32m/var/folders/q3/0g1f31211lbgj741dfjd4r5c0000gn/T/ipykernel_91612/702172165.py\u001b[0m in \u001b[0;36m<module>\u001b[0;34m\u001b[0m\n\u001b[0;32m----> 1\u001b[0;31m \u001b[0mscipy__version__\u001b[0m\u001b[0;34m(\u001b[0m\u001b[0;34m)\u001b[0m\u001b[0;34m\u001b[0m\u001b[0;34m\u001b[0m\u001b[0m\n\u001b[0m",
      "\u001b[0;31mNameError\u001b[0m: name 'scipy__version__' is not defined"
     ]
    }
   ],
   "source": [
    "scipy__version__()"
   ]
  },
  {
   "cell_type": "code",
   "execution_count": 1,
   "metadata": {},
   "outputs": [
    {
     "ename": "ModuleNotFoundError",
     "evalue": "No module named 'bayes_opt'",
     "output_type": "error",
     "traceback": [
      "\u001b[0;31m---------------------------------------------------------------------------\u001b[0m",
      "\u001b[0;31mModuleNotFoundError\u001b[0m                       Traceback (most recent call last)",
      "\u001b[0;32m/var/folders/q3/0g1f31211lbgj741dfjd4r5c0000gn/T/ipykernel_91612/1914613388.py\u001b[0m in \u001b[0;36m<module>\u001b[0;34m\u001b[0m\n\u001b[1;32m     27\u001b[0m \u001b[0;31m# 4.model\u001b[0m\u001b[0;34m\u001b[0m\u001b[0;34m\u001b[0m\u001b[0;34m\u001b[0m\u001b[0m\n\u001b[1;32m     28\u001b[0m \u001b[0;32mimport\u001b[0m \u001b[0mlightgbm\u001b[0m \u001b[0;32mas\u001b[0m \u001b[0mlgb\u001b[0m\u001b[0;34m\u001b[0m\u001b[0;34m\u001b[0m\u001b[0m\n\u001b[0;32m---> 29\u001b[0;31m \u001b[0;32mfrom\u001b[0m \u001b[0mbayes_opt\u001b[0m \u001b[0;32mimport\u001b[0m \u001b[0mBayesianOptimization\u001b[0m\u001b[0;34m\u001b[0m\u001b[0;34m\u001b[0m\u001b[0m\n\u001b[0m\u001b[1;32m     30\u001b[0m \u001b[0;34m\u001b[0m\u001b[0m\n\u001b[1;32m     31\u001b[0m \u001b[0;31m# 5.plot\u001b[0m\u001b[0;34m\u001b[0m\u001b[0;34m\u001b[0m\u001b[0;34m\u001b[0m\u001b[0m\n",
      "\u001b[0;31mModuleNotFoundError\u001b[0m: No module named 'bayes_opt'"
     ]
    }
   ],
   "source": [
    "import numpy as np \n",
    "import pandas as pd \n",
    "import seaborn as sns\n",
    "import matplotlib.pyplot as plt\n",
    "from scipy import stats\n",
    "import json\n",
    "import sklearn\n",
    "%matplotlib inline\n",
    "\n",
    "#sklearn library\n",
    "# 1.model_selection\n",
    "from sklearn.model_selection import train_test_split\n",
    "from sklearn.model_selection import GridSearchCV\n",
    "from sklearn.model_selection import cross_val_score, KFold\n",
    "from sklearn.model_selection import StratifiedKFold\n",
    "\n",
    "# 2.preprocessing\n",
    "from sklearn.preprocessing import OrdinalEncoder\n",
    "from sklearn.preprocessing import MinMaxScaler\n",
    "\n",
    "# 3.metrics\n",
    "from sklearn.metrics import roc_auc_score\n",
    "from sklearn.metrics import mean_squared_error\n",
    "from sklearn.metrics import classification_report\n",
    "from sklearn.metrics import confusion_matrix\n",
    "\n",
    "# 4.model\n",
    "import lightgbm as lgb\n",
    "from bayes_opt import BayesianOptimization\n",
    "\n",
    "# 5.plot\n",
    "import scikitplot as skplt\n",
    "\n",
    "import warnings\n",
    "warnings.filterwarnings('ignore')\n",
    "\n",
    "# Set Graph Environment\n",
    "font = {'family':'Helvetica, Ariel',\n",
    "        'weight':'normal',\n",
    "        'size':12}\n",
    "plt.rc('font', **font)\n",
    "sns.set_context('notebook')\n",
    "sns.set_style(\"ticks\")\n",
    "FIG_FONT = dict(family=\"Helvetica, Ariel\", weight=\"bold\", color=\"#7f7f7f\")\n",
    "sns.set_palette(\"Spectral\")"
   ]
  },
  {
   "cell_type": "code",
   "execution_count": null,
   "metadata": {},
   "outputs": [],
   "source": [
    "# Read in multiple files from local disk\n",
    "import os\n",
    "dfs = {}\n",
    "for file in os.listdir(\"../../input/transation_data/\"):\n",
    "    dfs[file.split('.')[0]] = pd.read_csv('../../input/transation_data/')\n",
    "print(dfs.keys())\n",
    "replace_dict  = {\n",
    "    'E':'0','C':'1',\n",
    "    'N':'0', 'Y':'1',\n",
    "    'nan':'2'\n",
    "}\n",
    "\n",
    "\n",
    "\n",
    "# Download multiple files on Kaggle\n",
    "import kaggle\n",
    "from kaggle.api.kaggle_api_extended import KaggleApi\n",
    "kaggle_dataset_id = \"sudalairajkumar/creditcardfraud\"\n",
    "api_client = KaggleApi()\n",
    "api_client.authenticate()\n",
    "api_client.dataset_download_files(kaggle_dataset_id)\n",
    "for file in os.listdir('../input'):\n",
    "    dfs[file.split('.')[0]] = pd.read_csv('../input/' + file)\n",
    "    print(f'Successfully loaded {file}')\n",
    "print('Finished.')\n",
    "\n",
    "# Utils functions\n",
    "def load_json_file_into_pandas(json_file):\n",
    "    series_ls = []\n",
    "    for id, line in enumerate(open(json_file, 'r')):\n",
    "        series_ls.append(pd.Series(json.loads(line)))\n",
    "    df = pd.DataFrame()  \n",
    "    df = pd.concat(series_ls, axis=1)\n",
    "    df = df.transpose().reset_index(drop=True)\n",
    "    return df\n",
    "\n",
    "# Plot Feature - Histogram\n",
    "def plot_hist_feature(data, category_cols, max_cols=2):\n",
    "    rows = (len(category_cols)-1) // max_cols + 1\n",
    "    fig, ax = plt.subplots(rows, max_cols, figsize=(max_cols*5.5,5*5.5/5))\n",
    "    # Handle 1x1 or 1x2 case\n",
    "    if (rows == 1): \n",
    "        max_cols = len(category_cols) \n",
    "        ax = (ax,)\n",
    "    ax = ax.flatten()\n",
    "    for k, v in enumerate(category_cols):\n",
    "        sns.distplot(data[data['Status']==1][v], color='r', ax=ax[k], label='Bad')\n",
    "        sns.distplot(data[data['Status']==0][v], color='g', ax=ax[k], label='Good')\n",
    "        ax[k].set_title(v, fontdict=FIG_FONT)\n",
    "        ax[k].legend(loc=\"best\")\n",
    "    plt.tight_layout()\n",
    "    plt.show()\n",
    "\n",
    "\n",
    "\n"
   ]
  },
  {
   "cell_type": "code",
   "execution_count": null,
   "metadata": {},
   "outputs": [],
   "source": [
    "# Read the Data\n",
    "transactions = pd.read_csv('/Users/jasonrobinson/Documents/Projects/All Data/cc-transact-csv/User0_credit_card_transactions.csv')"
   ]
  }
 ],
 "metadata": {
  "kernelspec": {
   "display_name": "NNse",
   "language": "python",
   "name": "u4-s1-nns"
  },
  "language_info": {
   "codemirror_mode": {
    "name": "ipython",
    "version": 3
   },
   "file_extension": ".py",
   "mimetype": "text/x-python",
   "name": "python",
   "nbconvert_exporter": "python",
   "pygments_lexer": "ipython3",
   "version": "3.8.5"
  },
  "vscode": {
   "interpreter": {
    "hash": "a4ae6f0424a16e8e91b0ab48073d90889a15ac39d212e16aef0dd7af596a8749"
   }
  }
 },
 "nbformat": 4,
 "nbformat_minor": 2
}
