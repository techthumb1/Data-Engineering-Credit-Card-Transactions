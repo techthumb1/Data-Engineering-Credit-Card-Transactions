{
 "cells": [
  {
   "cell_type": "markdown",
   "metadata": {},
   "source": [
    "The recommender system will market to customers who have a higher likelihood of being a victim of fraud, due to some of the following reasons:\n",
    "- Susbtanial volume of daily transactions\n",
    "- Large transaction amounts\n",
    "- Transactions in a different country than the customer's home country\n",
    "- Transactions in a different state than the customer's home state\n",
    "- Online transactions"
   ]
  },
  {
   "cell_type": "code",
   "execution_count": null,
   "metadata": {},
   "outputs": [],
   "source": []
  }
 ],
 "metadata": {
  "language_info": {
   "name": "python"
  },
  "orig_nbformat": 4
 },
 "nbformat": 4,
 "nbformat_minor": 2
}
