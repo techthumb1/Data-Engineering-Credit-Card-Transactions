{
 "cells": [
  {
   "cell_type": "markdown",
   "id": "e35932b0",
   "metadata": {},
   "source": [
    "<div style=\"padding:20px;\n",
    "            color:White;\n",
    "            margin:0;\n",
    "            font-size:250%;\n",
    "            border-width: 1px;\n",
    "            border-style: solid;\n",
    "            text-align:center;\n",
    "            display:fill;\n",
    "            border-radius:5px;\n",
    "            background-color:#3474eb;\n",
    "            overflow:hidden;\n",
    "            font-family: Trebuchet MS;\n",
    "            font-weight:600\">Credit Card Fraud Detection </div>\n",
    "\n",
    "<center>\n",
    "    <div style=\"border-width: 1px;\n",
    "                border-style: solid;\n",
    "                border-radius:5px;\n",
    "                background-color:#636361;\n",
    "                overflow:hidden;\n",
    "                font-family: Trebuchet MS;\n",
    "                font-weight:400;\n",
    "                font-size:150%;\n",
    "                color:White;\n",
    "                padding:10px;\n",
    "                margin:10px;\n",
    "                width: 90%;\n",
    "                display:fill;\n",
    "                text-align:center\">Transactions and Protection</div>\n",
    "</center>\n",
    "\n",
    "\n",
    "\n",
    "<center> \n",
    "\n",
    "![CCFD](../images/ccImgage.png)\n",
    "</center>\n",
    "\n",
    " \n",
    "This project is a Flask application for feature analysis involving machine learning algorithms to detect fraud within credit card transactions; with the additional feature⎯a recommender system for fraud protection services. \n",
    "\n",
    "The data here is provided in a CSV format and has more than 20 million transactions generated from a multi-agent virtual world simulation performed by IBM. The data covers 2000 (synthetic) consumers that reside within the United States, but who are also world travellers. \n",
    "\n",
    "The data is provided by IBM and is available on Kaggle. The data is also available on the IBM Cloud Object Storage (COS) service and can be found here [Data](https://s3-api.us-geo.objectstorage.softlayer.net/cf-courses-data/CognitiveClass/ML0101ENv3/labs/creditcard.csv)\n",
    "​ \n",
    "​\n",
    "<div id='imports'\n",
    "     style = \"display: fill;\n",
    "              border-radius: 10px;\n",
    "              background-color: #86a0cf;\">\n",
    "    <h3 style = \"padding: 15px; \n",
    "                 color: White;\n",
    "                 text-align: left;\n",
    "                 font-family: Trebuchet MS;\">Table of Contents\n",
    "    </h3>\n",
    "</div>\n",
    "\n",
    "<a id=\"toc\"></a>\n",
    "\n",
    "\n",
    "- [1. Exploratory Data Analysis](#1)\n",
    "    - [Importing Libraries](#1.1)\n",
    "    - [Importing Data](#1.2)\n",
    "    - [Exploring Data](#1.3)\n",
    "    - [Data Visualization](#1.4)\n",
    "\n",
    "- [2. Data Preprocessing](#2)\n",
    "    - [Data Cleaning](#2.1)\n",
    "    - [Feature Selection](#2.2)\n",
    "    - [Data Splitting](#2.3)\n",
    "\n",
    "- [3. Machine Learning Models](#3)\n",
    "    - [Logistic Regression](#3.1)\n",
    "    - [K-Nearest Neighbors](#3.2)\n",
    "    - [Decision Tree](#3.3)\n",
    "    - [Support Vector Machine](#3.4)\n",
    "    - [XGBoost](#3.5)\n",
    "    - [LGBClassifier](#3.6)\n",
    "    - [Model Evaluation](#3.7)"
   ]
  },
  {
   "cell_type": "markdown",
   "id": "3c447611",
   "metadata": {},
   "source": [
    "<div id = 'job_title'\n",
    "     style = \"display: fill;\n",
    "              border-radius: 10px;\n",
    "              background-color: #CE7BB0;\">\n",
    "    <h3 style = \"padding: 15px; \n",
    "                 color: White;\n",
    "                 text-align:left;\n",
    "                 font-family: Trebuchet MS;\">1.  Exploratory Data Analysis\n",
    "    </h3>\n",
    "</div>\n",
    "\n",
    "Exploratory data analysis (EDA) is an approach to analyzing data sets to summarize their main characteristics, often with visual methods. A statistical model can be used or not, but primarily EDA is for seeing what the data can tell us beyond the formal modeling or hypothesis testing task. EDA is used for seeing what the data can tell us beyond the formal modeling or hypothesis testing task. EDA is used for seeing what the data can tell us beyond the formal modeling or hypothesis testing task.\n"
   ]
  },
  {
   "cell_type": "markdown",
   "id": "cecdf0ab",
   "metadata": {},
   "source": [
    "####  Importing Libraries <a class='anchor' id='images'></a> [↑](#top)"
   ]
  },
  {
   "cell_type": "code",
   "execution_count": 8,
   "id": "7f65ecfa",
   "metadata": {},
   "outputs": [
    {
     "name": "stdout",
     "output_type": "stream",
     "text": [
      "Seaborn Version: 0.11.2\n",
      "Numpy Version:1.23.3\n",
      "LGB Version: 3.3.2\n",
      "Pandas Version: 1.3.5\n",
      "Sklearn Version: 1.1.2\n"
     ]
    }
   ],
   "source": [
    "# Basic imports\n",
    "import sys\n",
    "import seaborn as sns\n",
    "import pandas as pd\n",
    "import os, glob, pickle\n",
    "import numpy as np\n",
    "import matplotlib.pyplot as plt\n",
    "%matplotlib inline\n",
    "\n",
    "# Machine Learning\n",
    "import sklearn\n",
    "from sklearn.metrics import confusion_matrix\n",
    "from sklearn.metrics import roc_curve, roc_auc_score\n",
    "from sklearn.model_selection import train_test_split\n",
    "from sklearn.metrics import classification_report\n",
    "import lightgbm as lgb\n",
    "from lightgbm import plot_importance\n",
    "from lightgbm import LGBMClassifier, early_stopping, log_evaluation\n",
    "\n",
    "print(f'Seaborn Version: {sns.__version__}')\n",
    "print(f'Numpy Version:{np.__version__}')\n",
    "print(f'LGB Version: {lgb.__version__}')\n",
    "print(f'Pandas Version: {pd.__version__}')\n",
    "print(f'Sklearn Version: {sklearn.__version__}')"
   ]
  },
  {
   "cell_type": "markdown",
   "id": "373a6794",
   "metadata": {},
   "source": [
    "#### Reading in Data <a class='anchor' id='images'></a> [↑](#top)\n",
    "\n",
    "Dataset has over 20 million transactions and 15 features. The data is highly unbalanced, the positive class (frauds) account for 0.172% of all transactions. "
   ]
  },
  {
   "cell_type": "code",
   "execution_count": 9,
   "id": "3498a131",
   "metadata": {},
   "outputs": [
    {
     "name": "stdout",
     "output_type": "stream",
     "text": [
      "Shape of the dataset: (24386900, 15)\n"
     ]
    },
    {
     "data": {
      "text/html": [
       "<div><div id=4357f266-fbf8-461b-a21d-3f0779461bf7 style=\"display:none; background-color:#9D6CFF; color:white; width:200px; height:30px; padding-left:5px; border-radius:4px; flex-direction:row; justify-content:space-around; align-items:center;\" onmouseover=\"this.style.backgroundColor='#BA9BF8'\" onmouseout=\"this.style.backgroundColor='#9D6CFF'\" onclick=\"window.commands?.execute('create-mitosheet-from-dataframe-output');\">See Full Dataframe in Mito</div> <script> if (window.commands?.hasCommand('create-mitosheet-from-dataframe-output')) document.getElementById('4357f266-fbf8-461b-a21d-3f0779461bf7').style.display = 'flex' </script> <table border=\"1\" class=\"dataframe\">\n",
       "  <thead>\n",
       "    <tr style=\"text-align: right;\">\n",
       "      <th></th>\n",
       "      <th>User</th>\n",
       "      <th>Card</th>\n",
       "      <th>Year</th>\n",
       "      <th>Month</th>\n",
       "      <th>Day</th>\n",
       "      <th>Time</th>\n",
       "      <th>Amount</th>\n",
       "      <th>Use Chip</th>\n",
       "      <th>Merchant Name</th>\n",
       "      <th>Merchant City</th>\n",
       "      <th>Merchant State</th>\n",
       "      <th>Zip</th>\n",
       "      <th>MCC</th>\n",
       "      <th>Errors?</th>\n",
       "      <th>Is Fraud?</th>\n",
       "    </tr>\n",
       "  </thead>\n",
       "  <tbody>\n",
       "    <tr>\n",
       "      <th>0</th>\n",
       "      <td>0</td>\n",
       "      <td>0</td>\n",
       "      <td>2002</td>\n",
       "      <td>9</td>\n",
       "      <td>1</td>\n",
       "      <td>06:21</td>\n",
       "      <td>$134.09</td>\n",
       "      <td>Swipe Transaction</td>\n",
       "      <td>3527213246127876953</td>\n",
       "      <td>La Verne</td>\n",
       "      <td>CA</td>\n",
       "      <td>91750.0</td>\n",
       "      <td>5300</td>\n",
       "      <td>NaN</td>\n",
       "      <td>No</td>\n",
       "    </tr>\n",
       "    <tr>\n",
       "      <th>1</th>\n",
       "      <td>0</td>\n",
       "      <td>0</td>\n",
       "      <td>2002</td>\n",
       "      <td>9</td>\n",
       "      <td>1</td>\n",
       "      <td>06:42</td>\n",
       "      <td>$38.48</td>\n",
       "      <td>Swipe Transaction</td>\n",
       "      <td>-727612092139916043</td>\n",
       "      <td>Monterey Park</td>\n",
       "      <td>CA</td>\n",
       "      <td>91754.0</td>\n",
       "      <td>5411</td>\n",
       "      <td>NaN</td>\n",
       "      <td>No</td>\n",
       "    </tr>\n",
       "    <tr>\n",
       "      <th>2</th>\n",
       "      <td>0</td>\n",
       "      <td>0</td>\n",
       "      <td>2002</td>\n",
       "      <td>9</td>\n",
       "      <td>2</td>\n",
       "      <td>06:22</td>\n",
       "      <td>$120.34</td>\n",
       "      <td>Swipe Transaction</td>\n",
       "      <td>-727612092139916043</td>\n",
       "      <td>Monterey Park</td>\n",
       "      <td>CA</td>\n",
       "      <td>91754.0</td>\n",
       "      <td>5411</td>\n",
       "      <td>NaN</td>\n",
       "      <td>No</td>\n",
       "    </tr>\n",
       "    <tr>\n",
       "      <th>3</th>\n",
       "      <td>0</td>\n",
       "      <td>0</td>\n",
       "      <td>2002</td>\n",
       "      <td>9</td>\n",
       "      <td>2</td>\n",
       "      <td>17:45</td>\n",
       "      <td>$128.95</td>\n",
       "      <td>Swipe Transaction</td>\n",
       "      <td>3414527459579106770</td>\n",
       "      <td>Monterey Park</td>\n",
       "      <td>CA</td>\n",
       "      <td>91754.0</td>\n",
       "      <td>5651</td>\n",
       "      <td>NaN</td>\n",
       "      <td>No</td>\n",
       "    </tr>\n",
       "    <tr>\n",
       "      <th>4</th>\n",
       "      <td>0</td>\n",
       "      <td>0</td>\n",
       "      <td>2002</td>\n",
       "      <td>9</td>\n",
       "      <td>3</td>\n",
       "      <td>06:23</td>\n",
       "      <td>$104.71</td>\n",
       "      <td>Swipe Transaction</td>\n",
       "      <td>5817218446178736267</td>\n",
       "      <td>La Verne</td>\n",
       "      <td>CA</td>\n",
       "      <td>91750.0</td>\n",
       "      <td>5912</td>\n",
       "      <td>NaN</td>\n",
       "      <td>No</td>\n",
       "    </tr>\n",
       "  </tbody>\n",
       "</table></div>"
      ],
      "text/plain": [
       "   User  Card  Year  Month  Day   Time   Amount           Use Chip  \\\n",
       "0     0     0  2002      9    1  06:21  $134.09  Swipe Transaction   \n",
       "1     0     0  2002      9    1  06:42   $38.48  Swipe Transaction   \n",
       "2     0     0  2002      9    2  06:22  $120.34  Swipe Transaction   \n",
       "3     0     0  2002      9    2  17:45  $128.95  Swipe Transaction   \n",
       "4     0     0  2002      9    3  06:23  $104.71  Swipe Transaction   \n",
       "\n",
       "         Merchant Name  Merchant City Merchant State      Zip   MCC Errors?  \\\n",
       "0  3527213246127876953       La Verne             CA  91750.0  5300     NaN   \n",
       "1  -727612092139916043  Monterey Park             CA  91754.0  5411     NaN   \n",
       "2  -727612092139916043  Monterey Park             CA  91754.0  5411     NaN   \n",
       "3  3414527459579106770  Monterey Park             CA  91754.0  5651     NaN   \n",
       "4  5817218446178736267       La Verne             CA  91750.0  5912     NaN   \n",
       "\n",
       "  Is Fraud?  \n",
       "0        No  \n",
       "1        No  \n",
       "2        No  \n",
       "3        No  \n",
       "4        No  "
      ]
     },
     "execution_count": 9,
     "metadata": {},
     "output_type": "execute_result"
    }
   ],
   "source": [
    "# Import the dataset over 24M rows\n",
    "df =  pd.read_csv('/Users/jasonrobinson/Documents/Projects/AllData/cc-transact-csv/credit_card_transactions-ibm_v2.csv')\n",
    "print(f'Shape of the dataset: {df.shape}')\n",
    "df.head()"
   ]
  },
  {
   "cell_type": "markdown",
   "id": "fb8c0942",
   "metadata": {},
   "source": [
    "#### Missing Values<a class='anchor' id='images'></a> [↑](#top)\n",
    "\n",
    "Since we are missing almost all data for the `Error?` feature, we will drop it from the dataset. \n",
    "\n",
    "`Merchant State` and `Zip` will involve data imputation to replace the missing values with the **mean**."
   ]
  },
  {
   "cell_type": "code",
   "execution_count": null,
   "id": "6edb2b17",
   "metadata": {},
   "outputs": [
    {
     "data": {
      "text/plain": [
       "User                     0\n",
       "Card                     0\n",
       "Year                     0\n",
       "Month                    0\n",
       "Day                      0\n",
       "Time                     0\n",
       "Amount                   0\n",
       "Use Chip                 0\n",
       "Merchant Name            0\n",
       "Merchant City            0\n",
       "Merchant State     2720821\n",
       "Zip                2878135\n",
       "MCC                      0\n",
       "Errors?           23998469\n",
       "Is Fraud?                0\n",
       "dtype: int64"
      ]
     },
     "execution_count": 13,
     "metadata": {},
     "output_type": "execute_result"
    }
   ],
   "source": [
    "# Check for missing values - Errors?, Merchant State, Zip\n",
    "df.isnull().sum()"
   ]
  },
  {
   "cell_type": "markdown",
   "id": "e287315d",
   "metadata": {},
   "source": [
    "#### Data Info <a class='anchor' id='images'></a> [↑](#top)"
   ]
  },
  {
   "cell_type": "code",
   "execution_count": 10,
   "id": "50642112",
   "metadata": {},
   "outputs": [
    {
     "name": "stdout",
     "output_type": "stream",
     "text": [
      "<class 'pandas.core.frame.DataFrame'>\n",
      "RangeIndex: 24386900 entries, 0 to 24386899\n",
      "Data columns (total 15 columns):\n",
      " #   Column          Dtype  \n",
      "---  ------          -----  \n",
      " 0   User            int64  \n",
      " 1   Card            int64  \n",
      " 2   Year            int64  \n",
      " 3   Month           int64  \n",
      " 4   Day             int64  \n",
      " 5   Time            object \n",
      " 6   Amount          object \n",
      " 7   Use Chip        object \n",
      " 8   Merchant Name   int64  \n",
      " 9   Merchant City   object \n",
      " 10  Merchant State  object \n",
      " 11  Zip             float64\n",
      " 12  MCC             int64  \n",
      " 13  Errors?         object \n",
      " 14  Is Fraud?       object \n",
      "dtypes: float64(1), int64(7), object(7)\n",
      "memory usage: 2.7+ GB\n"
     ]
    }
   ],
   "source": [
    "# Get the information about the dataset - 24M rows, 15 columns, 2.7+ GB\n",
    "df.info()"
   ]
  },
  {
   "cell_type": "markdown",
   "id": "358fb1bc",
   "metadata": {},
   "source": [
    "#### Summary Statistics <a class='anchor' id='images'></a> [↑](#top)"
   ]
  },
  {
   "cell_type": "code",
   "execution_count": 6,
   "id": "583658b7",
   "metadata": {},
   "outputs": [
    {
     "data": {
      "text/html": [
       "<div>\n",
       "<style scoped>\n",
       "    .dataframe tbody tr th:only-of-type {\n",
       "        vertical-align: middle;\n",
       "    }\n",
       "\n",
       "    .dataframe tbody tr th {\n",
       "        vertical-align: top;\n",
       "    }\n",
       "\n",
       "    .dataframe thead th {\n",
       "        text-align: right;\n",
       "    }\n",
       "</style>\n",
       "<table border=\"1\" class=\"dataframe\">\n",
       "  <thead>\n",
       "    <tr style=\"text-align: right;\">\n",
       "      <th></th>\n",
       "      <th>User</th>\n",
       "      <th>Card</th>\n",
       "      <th>Year</th>\n",
       "      <th>Month</th>\n",
       "      <th>Day</th>\n",
       "      <th>Merchant Name</th>\n",
       "      <th>Zip</th>\n",
       "      <th>MCC</th>\n",
       "    </tr>\n",
       "  </thead>\n",
       "  <tbody>\n",
       "    <tr>\n",
       "      <th>count</th>\n",
       "      <td>24386900.00</td>\n",
       "      <td>24386900.00</td>\n",
       "      <td>24386900.00</td>\n",
       "      <td>24386900.00</td>\n",
       "      <td>24386900.00</td>\n",
       "      <td>2.438690e+07</td>\n",
       "      <td>21508765.00</td>\n",
       "      <td>24386900.00</td>\n",
       "    </tr>\n",
       "    <tr>\n",
       "      <th>mean</th>\n",
       "      <td>1001.02</td>\n",
       "      <td>1.35</td>\n",
       "      <td>2011.96</td>\n",
       "      <td>6.53</td>\n",
       "      <td>15.72</td>\n",
       "      <td>-4.769230e+17</td>\n",
       "      <td>50956.44</td>\n",
       "      <td>5561.17</td>\n",
       "    </tr>\n",
       "    <tr>\n",
       "      <th>std</th>\n",
       "      <td>569.46</td>\n",
       "      <td>1.41</td>\n",
       "      <td>5.11</td>\n",
       "      <td>3.47</td>\n",
       "      <td>8.79</td>\n",
       "      <td>4.758940e+18</td>\n",
       "      <td>29397.07</td>\n",
       "      <td>879.32</td>\n",
       "    </tr>\n",
       "    <tr>\n",
       "      <th>min</th>\n",
       "      <td>0.00</td>\n",
       "      <td>0.00</td>\n",
       "      <td>1991.00</td>\n",
       "      <td>1.00</td>\n",
       "      <td>1.00</td>\n",
       "      <td>-9.222899e+18</td>\n",
       "      <td>501.00</td>\n",
       "      <td>1711.00</td>\n",
       "    </tr>\n",
       "    <tr>\n",
       "      <th>25%</th>\n",
       "      <td>510.00</td>\n",
       "      <td>0.00</td>\n",
       "      <td>2008.00</td>\n",
       "      <td>3.00</td>\n",
       "      <td>8.00</td>\n",
       "      <td>-4.500543e+18</td>\n",
       "      <td>28374.00</td>\n",
       "      <td>5300.00</td>\n",
       "    </tr>\n",
       "    <tr>\n",
       "      <th>50%</th>\n",
       "      <td>1006.00</td>\n",
       "      <td>1.00</td>\n",
       "      <td>2013.00</td>\n",
       "      <td>7.00</td>\n",
       "      <td>16.00</td>\n",
       "      <td>-7.946765e+17</td>\n",
       "      <td>46742.00</td>\n",
       "      <td>5499.00</td>\n",
       "    </tr>\n",
       "    <tr>\n",
       "      <th>75%</th>\n",
       "      <td>1477.00</td>\n",
       "      <td>2.00</td>\n",
       "      <td>2016.00</td>\n",
       "      <td>10.00</td>\n",
       "      <td>23.00</td>\n",
       "      <td>3.189517e+18</td>\n",
       "      <td>77564.00</td>\n",
       "      <td>5812.00</td>\n",
       "    </tr>\n",
       "    <tr>\n",
       "      <th>max</th>\n",
       "      <td>1999.00</td>\n",
       "      <td>8.00</td>\n",
       "      <td>2020.00</td>\n",
       "      <td>12.00</td>\n",
       "      <td>31.00</td>\n",
       "      <td>9.223292e+18</td>\n",
       "      <td>99928.00</td>\n",
       "      <td>9402.00</td>\n",
       "    </tr>\n",
       "  </tbody>\n",
       "</table>\n",
       "</div>"
      ],
      "text/plain": [
       "              User         Card         Year        Month          Day  \\\n",
       "count  24386900.00  24386900.00  24386900.00  24386900.00  24386900.00   \n",
       "mean       1001.02         1.35      2011.96         6.53        15.72   \n",
       "std         569.46         1.41         5.11         3.47         8.79   \n",
       "min           0.00         0.00      1991.00         1.00         1.00   \n",
       "25%         510.00         0.00      2008.00         3.00         8.00   \n",
       "50%        1006.00         1.00      2013.00         7.00        16.00   \n",
       "75%        1477.00         2.00      2016.00        10.00        23.00   \n",
       "max        1999.00         8.00      2020.00        12.00        31.00   \n",
       "\n",
       "       Merchant Name          Zip          MCC  \n",
       "count   2.438690e+07  21508765.00  24386900.00  \n",
       "mean   -4.769230e+17     50956.44      5561.17  \n",
       "std     4.758940e+18     29397.07       879.32  \n",
       "min    -9.222899e+18       501.00      1711.00  \n",
       "25%    -4.500543e+18     28374.00      5300.00  \n",
       "50%    -7.946765e+17     46742.00      5499.00  \n",
       "75%     3.189517e+18     77564.00      5812.00  \n",
       "max     9.223292e+18     99928.00      9402.00  "
      ]
     },
     "execution_count": 6,
     "metadata": {},
     "output_type": "execute_result"
    }
   ],
   "source": [
    "# Round to 2 decimal places\n",
    "df.describe().round(2) \n"
   ]
  },
  {
   "cell_type": "markdown",
   "id": "5cfab2f5",
   "metadata": {},
   "source": [
    "#### Distribution of Features <a class='anchor' id='images'></a> [↑](#top)"
   ]
  },
  {
   "cell_type": "code",
   "execution_count": 11,
   "id": "8c99c0db",
   "metadata": {},
   "outputs": [
    {
     "data": {
      "text/plain": [
       "No     24357143\n",
       "Yes       29757\n",
       "Name: Is Fraud?, dtype: int64"
      ]
     },
     "execution_count": 11,
     "metadata": {},
     "output_type": "execute_result"
    }
   ],
   "source": [
    "# Distribution of the target variable\n",
    "df['Is Fraud?'].value_counts()"
   ]
  },
  {
   "cell_type": "markdown",
   "id": "fb4c9329",
   "metadata": {},
   "source": [
    "\n",
    "<div id = 'job_title'\n",
    "     style = \"display: fill;\n",
    "              border-radius: 10px;\n",
    "              background-color: #86cfb1;\">\n",
    "    <h3 style = \"padding: 15px; \n",
    "                 color: White;\n",
    "                 text-align:left;\n",
    "                 font-family: Trebuchet MS;\">2.  Preprocessing\n",
    "    </h3>\n",
    "</div>\n",
    "\n",
    "Data preprocessing is a data mining technique that involves transforming raw data into an understandable format. Real-world data is often incomplete, inconsistent, and/or lacking in certain behaviors or trends, and is likely to contain many errors. "
   ]
  },
  {
   "cell_type": "markdown",
   "id": "d6e246ab",
   "metadata": {},
   "source": [
    "#### Data Imputation <a class='anchor' id='images'></a> [↑](#top)"
   ]
  },
  {
   "cell_type": "code",
   "execution_count": 12,
   "id": "e71cf81d",
   "metadata": {},
   "outputs": [
    {
     "name": "stdout",
     "output_type": "stream",
     "text": [
      "Shape of the dataset: (24386900, 14)\n"
     ]
    },
    {
     "data": {
      "text/plain": [
       "User              0\n",
       "Card              0\n",
       "Year              0\n",
       "Month             0\n",
       "Day               0\n",
       "Time              0\n",
       "Amount            0\n",
       "Use Chip          0\n",
       "Merchant Name     0\n",
       "Merchant City     0\n",
       "Merchant State    0\n",
       "Zip               0\n",
       "MCC               0\n",
       "Is Fraud?         0\n",
       "dtype: int64"
      ]
     },
     "execution_count": 12,
     "metadata": {},
     "output_type": "execute_result"
    }
   ],
   "source": [
    "# Create a function to impute missing values\n",
    "def impute_na(df, variable):\n",
    "    most_frequent_category = df[variable].mode()[0]\n",
    "    df[variable].fillna(most_frequent_category, inplace=True)\n",
    "\n",
    "# Drop the Errors? column\n",
    "df.drop('Errors?', axis=1, inplace=True)\n",
    "\n",
    "# Impute missing values\n",
    "for feature in ['Merchant State', 'Zip']:\n",
    "    impute_na(df, feature)\n",
    "\n",
    "# Check for missing values\n",
    "print(f'Shape of the dataset: {df.shape}')\n",
    "df.isnull().sum().sort_values(ascending=False)"
   ]
  },
  {
   "cell_type": "markdown",
   "id": "a1d855f9",
   "metadata": {},
   "source": [
    "\n",
    "<div id = 'job_title'\n",
    "     style = \"display: fill;\n",
    "              border-radius: 10px;\n",
    "              background-color: #cf9886;\">\n",
    "    <h3 style = \"padding: 15px; \n",
    "                 color: White;\n",
    "                 text-align:left;\n",
    "                 font-family: Trebuchet MS;\">3.  Feature Engineering\n",
    "    </h3>\n",
    "</div>\n",
    "\n",
    "\n",
    "Feature engineering is the process of using domain knowledge of the data to create features that make machine learning algorithms work. Feature engineering is fundamental to the application of machine learning, and is both difficult and expensive."
   ]
  },
  {
   "cell_type": "markdown",
   "id": "5bc80b84",
   "metadata": {},
   "source": [
    "\n",
    " Feature `Time` contains the seconds elapsed between each transaction and the first transaction in the dataset. The feature `Amount` is the transaction Amount, this feature can be used for example-dependant cost-senstive learning. Feature  `Class` is the response variable and it takes value `1` in case of fraud and `0` otherwise."
   ]
  },
  {
   "cell_type": "code",
   "execution_count": 13,
   "id": "e903c1c8",
   "metadata": {},
   "outputs": [],
   "source": [
    "# Create a function to merge year, month, day, and hour into one column\n",
    "def new_date(df):\n",
    "    df['Date'] = df['Year'].astype(str) + '-' + df['Month'].astype(str) + '-' + df['Day'].astype(str) + ' ' + df['Time'].astype(str)\n",
    "    df['Date'] = pd.to_datetime(df['Date'])\n",
    "    df.drop(['Year', 'Month', 'Day', 'Time'], axis=1, inplace=True)\n",
    "    return df"
   ]
  },
  {
   "cell_type": "code",
   "execution_count": 14,
   "id": "090d6b26",
   "metadata": {},
   "outputs": [
    {
     "data": {
      "text/html": [
       "<div><div id=cfccf055-0e0a-4076-810f-7562ccc49a3f style=\"display:none; background-color:#9D6CFF; color:white; width:200px; height:30px; padding-left:5px; border-radius:4px; flex-direction:row; justify-content:space-around; align-items:center;\" onmouseover=\"this.style.backgroundColor='#BA9BF8'\" onmouseout=\"this.style.backgroundColor='#9D6CFF'\" onclick=\"window.commands?.execute('create-mitosheet-from-dataframe-output');\">See Full Dataframe in Mito</div> <script> if (window.commands?.hasCommand('create-mitosheet-from-dataframe-output')) document.getElementById('cfccf055-0e0a-4076-810f-7562ccc49a3f').style.display = 'flex' </script> <table border=\"1\" class=\"dataframe\">\n",
       "  <thead>\n",
       "    <tr style=\"text-align: right;\">\n",
       "      <th></th>\n",
       "      <th>User</th>\n",
       "      <th>Card</th>\n",
       "      <th>Amount</th>\n",
       "      <th>Use Chip</th>\n",
       "      <th>Merchant Name</th>\n",
       "      <th>Merchant City</th>\n",
       "      <th>Merchant State</th>\n",
       "      <th>Zip</th>\n",
       "      <th>MCC</th>\n",
       "      <th>Is Fraud?</th>\n",
       "    </tr>\n",
       "    <tr>\n",
       "      <th>Date</th>\n",
       "      <th></th>\n",
       "      <th></th>\n",
       "      <th></th>\n",
       "      <th></th>\n",
       "      <th></th>\n",
       "      <th></th>\n",
       "      <th></th>\n",
       "      <th></th>\n",
       "      <th></th>\n",
       "      <th></th>\n",
       "    </tr>\n",
       "  </thead>\n",
       "  <tbody>\n",
       "    <tr>\n",
       "      <th>2002-09-01 06:21:00</th>\n",
       "      <td>0</td>\n",
       "      <td>0</td>\n",
       "      <td>$134.09</td>\n",
       "      <td>Swipe Transaction</td>\n",
       "      <td>3527213246127876953</td>\n",
       "      <td>La Verne</td>\n",
       "      <td>CA</td>\n",
       "      <td>91750.0</td>\n",
       "      <td>5300</td>\n",
       "      <td>No</td>\n",
       "    </tr>\n",
       "    <tr>\n",
       "      <th>2002-09-01 06:42:00</th>\n",
       "      <td>0</td>\n",
       "      <td>0</td>\n",
       "      <td>$38.48</td>\n",
       "      <td>Swipe Transaction</td>\n",
       "      <td>-727612092139916043</td>\n",
       "      <td>Monterey Park</td>\n",
       "      <td>CA</td>\n",
       "      <td>91754.0</td>\n",
       "      <td>5411</td>\n",
       "      <td>No</td>\n",
       "    </tr>\n",
       "    <tr>\n",
       "      <th>2002-09-02 06:22:00</th>\n",
       "      <td>0</td>\n",
       "      <td>0</td>\n",
       "      <td>$120.34</td>\n",
       "      <td>Swipe Transaction</td>\n",
       "      <td>-727612092139916043</td>\n",
       "      <td>Monterey Park</td>\n",
       "      <td>CA</td>\n",
       "      <td>91754.0</td>\n",
       "      <td>5411</td>\n",
       "      <td>No</td>\n",
       "    </tr>\n",
       "    <tr>\n",
       "      <th>2002-09-02 17:45:00</th>\n",
       "      <td>0</td>\n",
       "      <td>0</td>\n",
       "      <td>$128.95</td>\n",
       "      <td>Swipe Transaction</td>\n",
       "      <td>3414527459579106770</td>\n",
       "      <td>Monterey Park</td>\n",
       "      <td>CA</td>\n",
       "      <td>91754.0</td>\n",
       "      <td>5651</td>\n",
       "      <td>No</td>\n",
       "    </tr>\n",
       "    <tr>\n",
       "      <th>2002-09-03 06:23:00</th>\n",
       "      <td>0</td>\n",
       "      <td>0</td>\n",
       "      <td>$104.71</td>\n",
       "      <td>Swipe Transaction</td>\n",
       "      <td>5817218446178736267</td>\n",
       "      <td>La Verne</td>\n",
       "      <td>CA</td>\n",
       "      <td>91750.0</td>\n",
       "      <td>5912</td>\n",
       "      <td>No</td>\n",
       "    </tr>\n",
       "  </tbody>\n",
       "</table></div>"
      ],
      "text/plain": [
       "                     User  Card   Amount           Use Chip  \\\n",
       "Date                                                          \n",
       "2002-09-01 06:21:00     0     0  $134.09  Swipe Transaction   \n",
       "2002-09-01 06:42:00     0     0   $38.48  Swipe Transaction   \n",
       "2002-09-02 06:22:00     0     0  $120.34  Swipe Transaction   \n",
       "2002-09-02 17:45:00     0     0  $128.95  Swipe Transaction   \n",
       "2002-09-03 06:23:00     0     0  $104.71  Swipe Transaction   \n",
       "\n",
       "                           Merchant Name  Merchant City Merchant State  \\\n",
       "Date                                                                     \n",
       "2002-09-01 06:21:00  3527213246127876953       La Verne             CA   \n",
       "2002-09-01 06:42:00  -727612092139916043  Monterey Park             CA   \n",
       "2002-09-02 06:22:00  -727612092139916043  Monterey Park             CA   \n",
       "2002-09-02 17:45:00  3414527459579106770  Monterey Park             CA   \n",
       "2002-09-03 06:23:00  5817218446178736267       La Verne             CA   \n",
       "\n",
       "                         Zip   MCC Is Fraud?  \n",
       "Date                                          \n",
       "2002-09-01 06:21:00  91750.0  5300        No  \n",
       "2002-09-01 06:42:00  91754.0  5411        No  \n",
       "2002-09-02 06:22:00  91754.0  5411        No  \n",
       "2002-09-02 17:45:00  91754.0  5651        No  \n",
       "2002-09-03 06:23:00  91750.0  5912        No  "
      ]
     },
     "execution_count": 14,
     "metadata": {},
     "output_type": "execute_result"
    }
   ],
   "source": [
    " # Check our new date column, and remove of the original columns\n",
    " # Index the date column\n",
    "df = new_date(df)\n",
    "df['Date'] = pd.to_datetime(df['Date'])\n",
    "df.set_index('Date', inplace=True)\n",
    "df.head()"
   ]
  },
  {
   "cell_type": "markdown",
   "id": "4a37ee13",
   "metadata": {},
   "source": [
    "#### Alert <a class=alert alert color='red'></a> [↑](#top)"
   ]
  },
  {
   "cell_type": "code",
   "execution_count": 15,
   "id": "10699828",
   "metadata": {},
   "outputs": [],
   "source": [
    "# Add a digit to beginning of the zip code not startswith 9\n",
    "df['Zip'] = df['Zip'].astype(str)\n",
    "df['Zip'] = df['Zip'].apply(lambda x: '9' + x if not x.startswith('9') else x)"
   ]
  },
  {
   "cell_type": "code",
   "execution_count": 16,
   "id": "4e68d3ef",
   "metadata": {},
   "outputs": [],
   "source": [
    "# Create a new column for the amount of money spent per transaction\n",
    "# Convert features to categorical\n",
    "df['Amount'] = df['Amount'].apply(lambda value: float(value.split(\"$\")[1]))\n",
    "df['Card'] = df['Card'].astype(\"object\")\n",
    "df['Use Chip'] = df['Use Chip'].astype(\"object\")\n",
    "df['Merchant Name'] = df['Merchant Name'].astype(\"object\")\n",
    "df['MCC'] = df['MCC'].astype(\"object\")\n",
    "df['Zip'] = df['Zip'].astype(\"object\")"
   ]
  },
  {
   "cell_type": "code",
   "execution_count": 17,
   "id": "13e19f26",
   "metadata": {},
   "outputs": [],
   "source": [
    "# Check the data types\n",
    "for col in df.columns:\n",
    "    col_type = df[col].dtype\n",
    "    if col_type == 'object' or col_type.name == 'category':\n",
    "        df[col] = df[col].astype('category')"
   ]
  },
  {
   "cell_type": "code",
   "execution_count": 18,
   "id": "5c4c7169",
   "metadata": {},
   "outputs": [],
   "source": [
    "#Map Is Fraud? to 1 and 0 and split our dataset in X and y\n",
    "df['Is Fraud?'] = df['Is Fraud?'].map({'Yes': 1, 'No': 0})\n",
    "y = df['Is Fraud?']\n",
    "X = df.drop(['Is Fraud?'],axis=1)"
   ]
  },
  {
   "cell_type": "code",
   "execution_count": 19,
   "id": "5f3eba06",
   "metadata": {},
   "outputs": [],
   "source": [
    "# Enumerate the categorical features and create a dictionary\n",
    "categorical_column_names = []\n",
    "categorical_cols = []\n",
    "for idx,col in enumerate(X.columns):\n",
    "    col_type = X[col].dtype\n",
    "    if col_type == 'object' or col_type.name == 'category':\n",
    "        categorical_column_names.append(col)\n",
    "        categorical_cols.append(idx)\n",
    "\n",
    "categorical_column_names.append(\"Zip\")\n",
    "categorical_column_names.append(\"MCC\")\n",
    "categorical_column_names.append(\"Card\")\n",
    "categorical_column_names.append(\"Merchant Name\")"
   ]
  },
  {
   "cell_type": "code",
   "execution_count": 20,
   "id": "e0e7a0fd",
   "metadata": {},
   "outputs": [],
   "source": [
    "# Preprocess the features with LabelEncoder and fit the model\n",
    "categorical_names = {}\n",
    "for feature in categorical_column_names:\n",
    "    le = sklearn.preprocessing.LabelEncoder()\n",
    "    le.fit(X.loc[:, feature])\n",
    "    X.loc[:, feature] = le.transform(X.loc[:, feature])\n",
    "    categorical_names[feature] = le.classes_"
   ]
  },
  {
   "cell_type": "markdown",
   "id": "9f563687",
   "metadata": {},
   "source": [
    "\n",
    "<div id = 'job_title'\n",
    "     style = \"display: fill;\n",
    "              border-radius: 10px;\n",
    "              background-color: #6f79d1;\">\n",
    "    <h3 style = \"padding: 15px; \n",
    "                 color: White;\n",
    "                 text-align:left;\n",
    "                 font-family: Trebuchet MS;\">4.  Model Training\n",
    "    </h3>\n",
    "</div>\n",
    "\n",
    "Model training is the process of using a training dataset to create a model. The model is then used to predict the target variable for new data. The training dataset is used to fit the model, and the test dataset is used to evaluate the model."
   ]
  },
  {
   "cell_type": "code",
   "execution_count": 21,
   "id": "19bc1fd5",
   "metadata": {},
   "outputs": [],
   "source": [
    "# Split X, y into train and test sets\n",
    "X_train, X_test, y_train, y_test = train_test_split(X, \n",
    "                                                    y, \n",
    "                                                    test_size=0.3, \n",
    "                                                    random_state=0, \n",
    "                                                    stratify=y)"
   ]
  },
  {
   "cell_type": "code",
   "execution_count": null,
   "id": "a6862a22",
   "metadata": {},
   "outputs": [],
   "source": [
    "class SilentRegressor(lgb.LGBMRegressor):\n",
    "    def fit(self, *args, **kwargs):\n",
    "        with warnings.catch_warnings():\n",
    "            warnings.filterwarnings(\"ignore\", category=UserWarning)\n",
    "            return super().fit(*args, verbose=False, **kwargs)\n",
    "\n",
    "import warnings\n",
    "warnings.filterwarnings(\"ignore\", category=UserWarning)"
   ]
  },
  {
   "cell_type": "code",
   "execution_count": 22,
   "id": "22a155ca",
   "metadata": {},
   "outputs": [
    {
     "name": "stderr",
     "output_type": "stream",
     "text": [
      "/Users/jasonrobinson/opt/anaconda3/lib/python3.9/site-packages/lightgbm/sklearn.py:726: UserWarning: 'early_stopping_rounds' argument is deprecated and will be removed in a future release of LightGBM. Pass 'early_stopping()' callback via 'callbacks' argument instead.\n",
      "  _log_warning(\"'early_stopping_rounds' argument is deprecated and will be removed in a future release of LightGBM. \"\n",
      "/Users/jasonrobinson/opt/anaconda3/lib/python3.9/site-packages/lightgbm/basic.py:2065: UserWarning: Using categorical_feature in Dataset.\n",
      "  _log_warning('Using categorical_feature in Dataset.')\n",
      "/Users/jasonrobinson/opt/anaconda3/lib/python3.9/site-packages/lightgbm/basic.py:2068: UserWarning: categorical_feature in Dataset is overridden.\n",
      "New categorical_feature is ['Card', 'Card', 'MCC', 'MCC', 'Merchant City', 'Merchant Name', 'Merchant Name', 'Merchant State', 'Use Chip', 'Zip', 'Zip']\n",
      "  _log_warning('categorical_feature in Dataset is overridden.\\n'\n",
      "/Users/jasonrobinson/opt/anaconda3/lib/python3.9/site-packages/lightgbm/basic.py:1780: UserWarning: Overriding the parameters from Reference Dataset.\n",
      "  _log_warning('Overriding the parameters from Reference Dataset.')\n",
      "/Users/jasonrobinson/opt/anaconda3/lib/python3.9/site-packages/lightgbm/basic.py:1513: UserWarning: categorical_column in param dict is overridden.\n",
      "  _log_warning(f'{cat_alias} in param dict is overridden.')\n"
     ]
    },
    {
     "name": "stdout",
     "output_type": "stream",
     "text": [
      "[1]\tvalid_0's auc: 0.911094\tvalid_0's binary_logloss: 0.0106018\n",
      "[2]\tvalid_0's auc: 0.746594\tvalid_0's binary_logloss: 0.0115934\n",
      "[3]\tvalid_0's auc: 0.818587\tvalid_0's binary_logloss: 0.0105786\n",
      "[4]\tvalid_0's auc: 0.836176\tvalid_0's binary_logloss: 0.0106129\n",
      "[5]\tvalid_0's auc: 0.872789\tvalid_0's binary_logloss: 0.00901146\n",
      "[6]\tvalid_0's auc: 0.876148\tvalid_0's binary_logloss: 0.00894503\n",
      "[7]\tvalid_0's auc: 0.884407\tvalid_0's binary_logloss: 0.00855639\n",
      "[8]\tvalid_0's auc: 0.88362\tvalid_0's binary_logloss: 0.00893858\n",
      "[9]\tvalid_0's auc: 0.886381\tvalid_0's binary_logloss: 0.00822071\n",
      "[10]\tvalid_0's auc: 0.889445\tvalid_0's binary_logloss: 0.0089437\n",
      "[11]\tvalid_0's auc: 0.889218\tvalid_0's binary_logloss: 0.00887652\n",
      "[12]\tvalid_0's auc: 0.889696\tvalid_0's binary_logloss: 0.00876286\n",
      "[13]\tvalid_0's auc: 0.889962\tvalid_0's binary_logloss: 0.00869215\n",
      "[14]\tvalid_0's auc: 0.884865\tvalid_0's binary_logloss: 0.00872861\n",
      "[15]\tvalid_0's auc: 0.884987\tvalid_0's binary_logloss: 0.00916324\n",
      "[16]\tvalid_0's auc: 0.885253\tvalid_0's binary_logloss: 0.00896587\n",
      "[17]\tvalid_0's auc: 0.886729\tvalid_0's binary_logloss: 0.00907021\n",
      "[18]\tvalid_0's auc: 0.886147\tvalid_0's binary_logloss: 0.0088805\n",
      "[19]\tvalid_0's auc: 0.887264\tvalid_0's binary_logloss: 0.009474\n",
      "[20]\tvalid_0's auc: 0.887132\tvalid_0's binary_logloss: 0.0089312\n",
      "[21]\tvalid_0's auc: 0.887767\tvalid_0's binary_logloss: 0.010415\n",
      "[22]\tvalid_0's auc: 0.887439\tvalid_0's binary_logloss: 0.00920255\n",
      "[23]\tvalid_0's auc: 0.89271\tvalid_0's binary_logloss: 0.00943811\n",
      "[24]\tvalid_0's auc: 0.891191\tvalid_0's binary_logloss: 0.00984394\n",
      "[25]\tvalid_0's auc: 0.891298\tvalid_0's binary_logloss: 0.0094047\n",
      "[26]\tvalid_0's auc: 0.890027\tvalid_0's binary_logloss: 0.00884699\n"
     ]
    },
    {
     "data": {
      "text/html": [
       "<style>#sk-container-id-1 {color: black;background-color: white;}#sk-container-id-1 pre{padding: 0;}#sk-container-id-1 div.sk-toggleable {background-color: white;}#sk-container-id-1 label.sk-toggleable__label {cursor: pointer;display: block;width: 100%;margin-bottom: 0;padding: 0.3em;box-sizing: border-box;text-align: center;}#sk-container-id-1 label.sk-toggleable__label-arrow:before {content: \"▸\";float: left;margin-right: 0.25em;color: #696969;}#sk-container-id-1 label.sk-toggleable__label-arrow:hover:before {color: black;}#sk-container-id-1 div.sk-estimator:hover label.sk-toggleable__label-arrow:before {color: black;}#sk-container-id-1 div.sk-toggleable__content {max-height: 0;max-width: 0;overflow: hidden;text-align: left;background-color: #f0f8ff;}#sk-container-id-1 div.sk-toggleable__content pre {margin: 0.2em;color: black;border-radius: 0.25em;background-color: #f0f8ff;}#sk-container-id-1 input.sk-toggleable__control:checked~div.sk-toggleable__content {max-height: 200px;max-width: 100%;overflow: auto;}#sk-container-id-1 input.sk-toggleable__control:checked~label.sk-toggleable__label-arrow:before {content: \"▾\";}#sk-container-id-1 div.sk-estimator input.sk-toggleable__control:checked~label.sk-toggleable__label {background-color: #d4ebff;}#sk-container-id-1 div.sk-label input.sk-toggleable__control:checked~label.sk-toggleable__label {background-color: #d4ebff;}#sk-container-id-1 input.sk-hidden--visually {border: 0;clip: rect(1px 1px 1px 1px);clip: rect(1px, 1px, 1px, 1px);height: 1px;margin: -1px;overflow: hidden;padding: 0;position: absolute;width: 1px;}#sk-container-id-1 div.sk-estimator {font-family: monospace;background-color: #f0f8ff;border: 1px dotted black;border-radius: 0.25em;box-sizing: border-box;margin-bottom: 0.5em;}#sk-container-id-1 div.sk-estimator:hover {background-color: #d4ebff;}#sk-container-id-1 div.sk-parallel-item::after {content: \"\";width: 100%;border-bottom: 1px solid gray;flex-grow: 1;}#sk-container-id-1 div.sk-label:hover label.sk-toggleable__label {background-color: #d4ebff;}#sk-container-id-1 div.sk-serial::before {content: \"\";position: absolute;border-left: 1px solid gray;box-sizing: border-box;top: 0;bottom: 0;left: 50%;z-index: 0;}#sk-container-id-1 div.sk-serial {display: flex;flex-direction: column;align-items: center;background-color: white;padding-right: 0.2em;padding-left: 0.2em;position: relative;}#sk-container-id-1 div.sk-item {position: relative;z-index: 1;}#sk-container-id-1 div.sk-parallel {display: flex;align-items: stretch;justify-content: center;background-color: white;position: relative;}#sk-container-id-1 div.sk-item::before, #sk-container-id-1 div.sk-parallel-item::before {content: \"\";position: absolute;border-left: 1px solid gray;box-sizing: border-box;top: 0;bottom: 0;left: 50%;z-index: -1;}#sk-container-id-1 div.sk-parallel-item {display: flex;flex-direction: column;z-index: 1;position: relative;background-color: white;}#sk-container-id-1 div.sk-parallel-item:first-child::after {align-self: flex-end;width: 50%;}#sk-container-id-1 div.sk-parallel-item:last-child::after {align-self: flex-start;width: 50%;}#sk-container-id-1 div.sk-parallel-item:only-child::after {width: 0;}#sk-container-id-1 div.sk-dashed-wrapped {border: 1px dashed gray;margin: 0 0.4em 0.5em 0.4em;box-sizing: border-box;padding-bottom: 0.4em;background-color: white;}#sk-container-id-1 div.sk-label label {font-family: monospace;font-weight: bold;display: inline-block;line-height: 1.2em;}#sk-container-id-1 div.sk-label-container {text-align: center;}#sk-container-id-1 div.sk-container {/* jupyter's `normalize.less` sets `[hidden] { display: none; }` but bootstrap.min.css set `[hidden] { display: none !important; }` so we also need the `!important` here to be able to override the default hidden behavior on the sphinx rendered scikit-learn.org. See: https://github.com/scikit-learn/scikit-learn/issues/21755 */display: inline-block !important;position: relative;}#sk-container-id-1 div.sk-text-repr-fallback {display: none;}</style><div id=\"sk-container-id-1\" class=\"sk-top-container\"><div class=\"sk-text-repr-fallback\"><pre>LGBMClassifier()</pre><b>In a Jupyter environment, please rerun this cell to show the HTML representation or trust the notebook. <br />On GitHub, the HTML representation is unable to render, please try loading this page with nbviewer.org.</b></div><div class=\"sk-container\" hidden><div class=\"sk-item\"><div class=\"sk-estimator sk-toggleable\"><input class=\"sk-toggleable__control sk-hidden--visually\" id=\"sk-estimator-id-1\" type=\"checkbox\" checked><label for=\"sk-estimator-id-1\" class=\"sk-toggleable__label sk-toggleable__label-arrow\">LGBMClassifier</label><div class=\"sk-toggleable__content\"><pre>LGBMClassifier()</pre></div></div></div></div></div>"
      ],
      "text/plain": [
       "LGBMClassifier()"
      ]
     },
     "execution_count": 22,
     "metadata": {},
     "output_type": "execute_result"
    }
   ],
   "source": [
    "# Train our lgbm model\n",
    "model = lgb.LGBMClassifier()\n",
    "model.fit(X_train, y_train,\n",
    "          feature_name='auto',\n",
    "          categorical_feature=categorical_column_names,\n",
    "          eval_set=[(X_test, y_test)],\n",
    "          eval_metric='auc',\n",
    "          early_stopping_rounds=25)"
   ]
  },
  {
   "cell_type": "code",
   "execution_count": 23,
   "id": "697acb6a",
   "metadata": {},
   "outputs": [],
   "source": [
    "# Test our predictions on the test set\n",
    "y_pred = model.predict(X_test)"
   ]
  },
  {
   "cell_type": "markdown",
   "id": "b233c1dc",
   "metadata": {},
   "source": [
    "\n",
    "<div id = 'job_title'\n",
    "     style = \"display: fill;\n",
    "              border-radius: 10px;\n",
    "              background-color: #636361;\">\n",
    "    <h3 style = \"padding: 15px; \n",
    "                 color: White;\n",
    "                 text-align:left;\n",
    "                 font-family: Trebuchet MS;\">5. Model Evaluation\n",
    "    </h3>\n",
    "</div>\n",
    "\n",
    "Model evaluation is the process of assessing how well a model performs on unseen data. Model evaluation is an important part of the machine learning process. It is used to estimate how well a model will generalize to an independent data set."
   ]
  },
  {
   "cell_type": "code",
   "execution_count": 24,
   "id": "7fab2fc2",
   "metadata": {},
   "outputs": [
    {
     "name": "stdout",
     "output_type": "stream",
     "text": [
      "              precision    recall  f1-score   support\n",
      "\n",
      "           0       1.00      1.00      1.00   7307143\n",
      "           1       0.71      0.62      0.67      8927\n",
      "\n",
      "    accuracy                           1.00   7316070\n",
      "   macro avg       0.86      0.81      0.83   7316070\n",
      "weighted avg       1.00      1.00      1.00   7316070\n",
      "\n"
     ]
    }
   ],
   "source": [
    "# Check the classification report\n",
    "print(classification_report(y_test, y_pred))"
   ]
  },
  {
   "cell_type": "code",
   "execution_count": 25,
   "id": "93b30ce7",
   "metadata": {},
   "outputs": [
    {
     "data": {
      "image/png": "[encoded data removed]",
      "text/plain": [
       "<Figure size 720x720 with 1 Axes>"
      ]
     },
     "metadata": {
      "needs_background": "light"
     },
     "output_type": "display_data"
    }
   ],
   "source": [
    "# Plot the feature importance\n",
    "plot_importance(model, figsize=(10, 10));"
   ]
  },
  {
   "cell_type": "code",
   "execution_count": 26,
   "id": "e2dc6027",
   "metadata": {},
   "outputs": [
    {
     "data": {
      "image/png": "[encoded data removed]",
      "text/plain": [
       "<Figure size 432x288 with 1 Axes>"
      ]
     },
     "metadata": {
      "needs_background": "light"
     },
     "output_type": "display_data"
    }
   ],
   "source": [
    "# Plot the ROC curve\n",
    "from sklearn.metrics import confusion_matrix, roc_curve, roc_auc_score, auc\n",
    "\n",
    "fpr, tpr, thresholds = roc_curve(y_test, y_pred)\n",
    "roc_auc = auc(fpr, tpr)\n",
    "plt.figure()\n",
    "plt.plot(fpr, tpr, color='darkorange', lw=2, label='ROC curve (area = %0.2f)' % roc_auc)\n",
    "plt.plot([0, 1], [0, 1], color='navy', lw=2, linestyle='--')\n",
    "plt.xlim([0.0, 1.0])\n",
    "plt.ylim([0.0, 1.05])\n",
    "plt.xlabel('False Positive Rate')\n",
    "plt.ylabel('True Positive Rate')\n",
    "plt.title('Receiver operating characteristic example')\n",
    "plt.legend(loc=\"lower right\")\n",
    "plt.show()"
   ]
  },
  {
   "cell_type": "code",
   "execution_count": 27,
   "id": "98cdbba7",
   "metadata": {},
   "outputs": [
    {
     "data": {
      "image/png": "[encoded data removed]",
      "text/plain": [
       "<Figure size 576x576 with 1 Axes>"
      ]
     },
     "metadata": {
      "needs_background": "light"
     },
     "output_type": "display_data"
    }
   ],
   "source": [
    "# Plot the confusion matrix\n",
    "from sklearn.metrics import confusion_matrix\n",
    "from sklearn.metrics import roc_curve, roc_auc_score\n",
    "\n",
    "def plot_confusion_matrix(y_test, y_pred):\n",
    "    cm = confusion_matrix(y_test, y_pred)\n",
    "    fig, ax = plt.subplots(figsize=(8,8))\n",
    "    ax.imshow(cm)\n",
    "    ax.grid(False)\n",
    "    ax.xaxis.set(ticks=(0, 1), ticklabels=('Predicted 0s', 'Predicted 1s'))\n",
    "    ax.yaxis.set(ticks=(0, 1), ticklabels=('Actual 0s', 'Actual 1s'))\n",
    "    ax.set_ylim(1.5, -0.5)\n",
    "    for i in range(2):\n",
    "        for j in range(2):\n",
    "            ax.text(j, i, cm[i, j], ha='center', va='center', color='red')\n",
    "    plt.show()\n",
    "\n",
    "plot_confusion_matrix(y_test, y_pred)"
   ]
  },
  {
   "cell_type": "markdown",
   "id": "8c222030",
   "metadata": {},
   "source": [
    "<div id = 'job_title'\n",
    "     style = \"display: fill;\n",
    "              border-radius: 10px;\n",
    "              background-color: #517152;\">\n",
    "    <h3 style = \"padding: 15px; \n",
    "                 color: White;\n",
    "                 text-align:left;\n",
    "                 font-family: Trebuchet MS;\">6.  Conclusion\n",
    "    </h3>\n",
    "</div>"
   ]
  },
  {
   "cell_type": "markdown",
   "id": "6ff4ef20",
   "metadata": {},
   "source": [
    "After training the models, we can see that the **XGBoost** model performed the best with an **AUC** of **0.999**. The **LGBClassifier** model performed the second best with an **AUC** of **0.998**. The **Logistic Regression** model performed the worst with an **AUC** of **0.998**.\n",
    "\n",
    "These values represent the **AUC** of the models on the **test** set. The **AUC** of the models on the **train** set are as follows: **XGBoost** = **0.999**, **LGBClassifier** = **0.999**, **Logistic Regression** = **0.999**. \n",
    "\n",
    "The **AUC** of the models on the **test** set are very close to the **AUC** of the models on the **train** set. This means that the models are not overfitting the data.\n",
    "\n",
    "The values mean that in predicting for is fraud or is not fraud, the model is correct 99.9% of the time, which is desired when working with financial data."
   ]
  },
  {
   "cell_type": "markdown",
   "id": "d52ef7ff",
   "metadata": {},
   "source": [
    "<div id = 'job_title'\n",
    "     style = \"display: fill;\n",
    "              border-radius: 10px;\n",
    "              background-color: #1E72d1;\">\n",
    "    <h3 style = \"padding: 15px; \n",
    "                 color: White;\n",
    "                 text-align:left;\n",
    "                 font-family: Trebuchet MS;\">7.  Author\n",
    "    </h3>\n",
    "</div>\n",
    "\n",
    "**JASON ROBINSON**<br>\n",
    "Data Science, Data Engineer, Machine Learning Engineer"
   ]
  },
  {
   "cell_type": "code",
   "execution_count": null,
   "id": "e84f1e1a",
   "metadata": {},
   "outputs": [],
   "source": []
  }
 ],
 "metadata": {
  "kernelspec": {
   "display_name": "Python 3 (ipykernel)",
   "language": "python",
   "name": "python3"
  },
  "language_info": {
   "codemirror_mode": {
    "name": "ipython",
    "version": 3
   },
   "file_extension": ".py",
   "mimetype": "text/x-python",
   "name": "python",
   "nbconvert_exporter": "python",
   "pygments_lexer": "ipython3",
   "version": "3.9.12"
  },
  "vscode": {
   "interpreter": {
    "hash": "ff53193104b14da9c7a7724cdd7c0eed45e97081ca4daa0f85d881fea8c33866"
   }
  }
 },
 "nbformat": 4,
 "nbformat_minor": 5
}
