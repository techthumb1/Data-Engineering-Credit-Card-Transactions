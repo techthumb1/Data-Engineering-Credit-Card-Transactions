{
 "cells": [
  {
   "cell_type": "markdown",
   "id": "e35932b0",
   "metadata": {},
   "source": [
    "<div style=\"padding:20px;\n",
    "            color:White;\n",
    "            margin:0;\n",
    "            font-size:250%;\n",
    "            border-width: 1px;\n",
    "            border-style: solid;\n",
    "            text-align:center;\n",
    "            display:fill;\n",
    "            border-radius:5px;\n",
    "            background-color:#3474eb;\n",
    "            overflow:hidden;\n",
    "            font-family: Trebuchet MS;\n",
    "            font-weight:600\">Credit Card Fraud Transactions </div>\n",
    "\n",
    "<center>\n",
    "    <div style=\"border-width: 1px;\n",
    "                border-style: solid;\n",
    "                border-radius:5px;\n",
    "                background-color:#636361;\n",
    "                overflow:hidden;\n",
    "                font-family: Trebuchet MS;\n",
    "                font-weight:400;\n",
    "                font-size:150%;\n",
    "                padding:10px;\n",
    "                margin:10px;\n",
    "                width: 90%;\n",
    "                display:fill;\n",
    "                text-align:center\">Detection and Protection</div>\n",
    "</center>\n",
    "\n",
    "\n",
    "\n",
    "<center> \n",
    "\n",
    "![CCFD](../images/ccImgage.png)\n",
    "</center>\n",
    "\n",
    " \n",
    "This project is a Flask application for feature analysis involving machine learning algorithms to detect fraud within credit card transactions; with the additional feature⎯a recommender system for fraud protection services. \n",
    "\n",
    "The data here is provided in a CSV format and has more than 20 million transactions generated from a multi-agent virtual world simulation performed by IBM. The data covers 2000 (synthetic) consumers resident in the United States, but who travel the world. The data also covers decades of purchases, and includes multiple cards from many of the consumers.\n",
    "\n",
    "The data is provided by IBM and is available on Kaggle. The data is also available on the IBM Cloud Object Storage (COS) service. The data is available in the following location:   [Data](https://s3-api.us-geo.objectstorage.softlayer.net/cf-courses-data/CognitiveClass/ML0101ENv3/labs/creditcard.csv)\n",
    "​ \n",
    "​\n",
    "<div id='imports'\n",
    "     style = \"display: fill;\n",
    "              border-radius: 10px;\n",
    "              background-color: #86a0cf;\">\n",
    "    <h3 style = \"padding: 15px; \n",
    "                 color: White;\n",
    "                 text-align: left;\n",
    "                 font-family: Trebuchet MS;\">Table of Contents\n",
    "    </h3>\n",
    "</div>\n",
    "\n",
    "<a id=\"toc\"></a>\n",
    "\n",
    "\n",
    "- [1. Exploratory Data Analysis](#1)\n",
    "    - 1.1 [Importing Libraries](#1.1)\n",
    "    - 1.2 [Importing Data](#1.2)\n",
    "    - 1.3 [Exploring Data](#1.3)\n",
    "    - 1.4 [Data Visualization](#1.4)\n",
    "\n",
    "- [2. Data Preprocessing](#2)\n",
    "    - 2.1 [Data Cleaning](#2.1)\n",
    "    - 2.2 [Feature Selection](#2.2)\n",
    "    - 2.3 [Data Splitting](#2.3)\n",
    "\n",
    "- [3. Machine Learning Models](#3)\n",
    "    - 3.1 [Logistic Regression](#3.1)\n",
    "    - 3.2 [K-Nearest Neighbors](#3.2)\n",
    "    - 3.3 [Decision Tree](#3.3)\n",
    "    - 3.4 [Support Vector Machine](#3.4)\n",
    "    - 3.5 [XGBoost](#3.5)\n",
    "    - 3.6 [LGBClassifier](#3.6)\n",
    "    - 3.7 [Model Evaluation](#3.7)"
   ]
  },
  {
   "cell_type": "markdown",
   "id": "3c447611",
   "metadata": {},
   "source": [
    "<div id = 'job_title'\n",
    "     style = \"display: fill;\n",
    "              border-radius: 10px;\n",
    "              background-color: #CE7BB0;\">\n",
    "    <h3 style = \"padding: 15px; \n",
    "                 color: White;\n",
    "                 text-align:left;\n",
    "                 font-family: Trebuchet MS;\">1.  Exploratory Data Analysis\n",
    "    </h3>\n",
    "</div>\n",
    "\n",
    "Exploratory data analysis (EDA) is an approach to analyzing data sets to summarize their main characteristics, often with visual methods. A statistical model can be used or not, but primarily EDA is for seeing what the data can tell us beyond the formal modeling or hypothesis testing task. EDA is used for seeing what the data can tell us beyond the formal modeling or hypothesis testing task. EDA is used for seeing what the data can tell us beyond the formal modeling or hypothesis testing task.\n"
   ]
  },
  {
   "cell_type": "markdown",
   "id": "cecdf0ab",
   "metadata": {},
   "source": [
    "#### Importing Libraries <a class='anchor' id='images'></a> [↑](#top)"
   ]
  },
  {
   "cell_type": "code",
   "execution_count": 1,
   "id": "7f65ecfa",
   "metadata": {},
   "outputs": [],
   "source": [
    "import sys\n",
    "import seaborn as sns\n",
    "import pandas as pd\n",
    "import os, glob, pickle\n",
    "import numpy as np\n",
    "import matplotlib as plt\n",
    "import lightgbm as lgb\n",
    "import sklearn\n",
    "from sklearn.model_selection import train_test_split\n",
    "from sklearn.metrics import classification_report\n",
    "from lightgbm import plot_importance\n",
    "from lightgbm import LGBMClassifier, early_stopping, log_evaluation\n",
    "%matplotlib inline"
   ]
  },
  {
   "cell_type": "markdown",
   "id": "373a6794",
   "metadata": {},
   "source": [
    "#### Reading in Data <a class='anchor' id='images'></a> [↑](#top)\n",
    "\n",
    "Dataset has over 20 million transactions and 15 features. The data is highly unbalanced, the positive class (frauds) account for 0.172% of all transactions. "
   ]
  },
  {
   "cell_type": "code",
   "execution_count": 4,
   "id": "3498a131",
   "metadata": {},
   "outputs": [
    {
     "name": "stdout",
     "output_type": "stream",
     "text": [
      "Shape of the dataset: (24386900, 15)\n"
     ]
    },
    {
     "data": {
      "text/html": [
       "<div>\n",
       "<style scoped>\n",
       "    .dataframe tbody tr th:only-of-type {\n",
       "        vertical-align: middle;\n",
       "    }\n",
       "\n",
       "    .dataframe tbody tr th {\n",
       "        vertical-align: top;\n",
       "    }\n",
       "\n",
       "    .dataframe thead th {\n",
       "        text-align: right;\n",
       "    }\n",
       "</style>\n",
       "<table border=\"1\" class=\"dataframe\">\n",
       "  <thead>\n",
       "    <tr style=\"text-align: right;\">\n",
       "      <th></th>\n",
       "      <th>User</th>\n",
       "      <th>Card</th>\n",
       "      <th>Year</th>\n",
       "      <th>Month</th>\n",
       "      <th>Day</th>\n",
       "      <th>Time</th>\n",
       "      <th>Amount</th>\n",
       "      <th>Use Chip</th>\n",
       "      <th>Merchant Name</th>\n",
       "      <th>Merchant City</th>\n",
       "      <th>Merchant State</th>\n",
       "      <th>Zip</th>\n",
       "      <th>MCC</th>\n",
       "      <th>Errors?</th>\n",
       "      <th>Is Fraud?</th>\n",
       "    </tr>\n",
       "  </thead>\n",
       "  <tbody>\n",
       "    <tr>\n",
       "      <th>0</th>\n",
       "      <td>0</td>\n",
       "      <td>0</td>\n",
       "      <td>2002</td>\n",
       "      <td>9</td>\n",
       "      <td>1</td>\n",
       "      <td>06:21</td>\n",
       "      <td>$134.09</td>\n",
       "      <td>Swipe Transaction</td>\n",
       "      <td>3527213246127876953</td>\n",
       "      <td>La Verne</td>\n",
       "      <td>CA</td>\n",
       "      <td>91750.0</td>\n",
       "      <td>5300</td>\n",
       "      <td>NaN</td>\n",
       "      <td>No</td>\n",
       "    </tr>\n",
       "    <tr>\n",
       "      <th>1</th>\n",
       "      <td>0</td>\n",
       "      <td>0</td>\n",
       "      <td>2002</td>\n",
       "      <td>9</td>\n",
       "      <td>1</td>\n",
       "      <td>06:42</td>\n",
       "      <td>$38.48</td>\n",
       "      <td>Swipe Transaction</td>\n",
       "      <td>-727612092139916043</td>\n",
       "      <td>Monterey Park</td>\n",
       "      <td>CA</td>\n",
       "      <td>91754.0</td>\n",
       "      <td>5411</td>\n",
       "      <td>NaN</td>\n",
       "      <td>No</td>\n",
       "    </tr>\n",
       "    <tr>\n",
       "      <th>2</th>\n",
       "      <td>0</td>\n",
       "      <td>0</td>\n",
       "      <td>2002</td>\n",
       "      <td>9</td>\n",
       "      <td>2</td>\n",
       "      <td>06:22</td>\n",
       "      <td>$120.34</td>\n",
       "      <td>Swipe Transaction</td>\n",
       "      <td>-727612092139916043</td>\n",
       "      <td>Monterey Park</td>\n",
       "      <td>CA</td>\n",
       "      <td>91754.0</td>\n",
       "      <td>5411</td>\n",
       "      <td>NaN</td>\n",
       "      <td>No</td>\n",
       "    </tr>\n",
       "    <tr>\n",
       "      <th>3</th>\n",
       "      <td>0</td>\n",
       "      <td>0</td>\n",
       "      <td>2002</td>\n",
       "      <td>9</td>\n",
       "      <td>2</td>\n",
       "      <td>17:45</td>\n",
       "      <td>$128.95</td>\n",
       "      <td>Swipe Transaction</td>\n",
       "      <td>3414527459579106770</td>\n",
       "      <td>Monterey Park</td>\n",
       "      <td>CA</td>\n",
       "      <td>91754.0</td>\n",
       "      <td>5651</td>\n",
       "      <td>NaN</td>\n",
       "      <td>No</td>\n",
       "    </tr>\n",
       "    <tr>\n",
       "      <th>4</th>\n",
       "      <td>0</td>\n",
       "      <td>0</td>\n",
       "      <td>2002</td>\n",
       "      <td>9</td>\n",
       "      <td>3</td>\n",
       "      <td>06:23</td>\n",
       "      <td>$104.71</td>\n",
       "      <td>Swipe Transaction</td>\n",
       "      <td>5817218446178736267</td>\n",
       "      <td>La Verne</td>\n",
       "      <td>CA</td>\n",
       "      <td>91750.0</td>\n",
       "      <td>5912</td>\n",
       "      <td>NaN</td>\n",
       "      <td>No</td>\n",
       "    </tr>\n",
       "  </tbody>\n",
       "</table>\n",
       "</div>"
      ],
      "text/plain": [
       "   User  Card  Year  Month  Day   Time   Amount           Use Chip  \\\n",
       "0     0     0  2002      9    1  06:21  $134.09  Swipe Transaction   \n",
       "1     0     0  2002      9    1  06:42   $38.48  Swipe Transaction   \n",
       "2     0     0  2002      9    2  06:22  $120.34  Swipe Transaction   \n",
       "3     0     0  2002      9    2  17:45  $128.95  Swipe Transaction   \n",
       "4     0     0  2002      9    3  06:23  $104.71  Swipe Transaction   \n",
       "\n",
       "         Merchant Name  Merchant City Merchant State      Zip   MCC Errors?  \\\n",
       "0  3527213246127876953       La Verne             CA  91750.0  5300     NaN   \n",
       "1  -727612092139916043  Monterey Park             CA  91754.0  5411     NaN   \n",
       "2  -727612092139916043  Monterey Park             CA  91754.0  5411     NaN   \n",
       "3  3414527459579106770  Monterey Park             CA  91754.0  5651     NaN   \n",
       "4  5817218446178736267       La Verne             CA  91750.0  5912     NaN   \n",
       "\n",
       "  Is Fraud?  \n",
       "0        No  \n",
       "1        No  \n",
       "2        No  \n",
       "3        No  \n",
       "4        No  "
      ]
     },
     "execution_count": 4,
     "metadata": {},
     "output_type": "execute_result"
    }
   ],
   "source": [
    "# Import the dataset over 24M rows\n",
    "df =  pd.read_csv('/Users/jasonrobinson/Documents/Projects/AllData/cc-transact-csv/credit_card_transactions-ibm_v2.csv')\n",
    "print(f'Shape of the dataset: {df.shape}')\n",
    "df.head()"
   ]
  },
  {
   "cell_type": "markdown",
   "id": "fb8c0942",
   "metadata": {},
   "source": [
    "#### Missing Values<a class='anchor' id='images'></a> [↑](#top)\n",
    "\n",
    "Since we are missing almost all data for the `Error?` feature, we will drop it from the dataset. \n",
    "\n",
    "`Merchant State` and `Zip` will involve data imputation to replace the missing values with the **mean**."
   ]
  },
  {
   "cell_type": "code",
   "execution_count": 13,
   "id": "6edb2b17",
   "metadata": {},
   "outputs": [
    {
     "data": {
      "text/plain": [
       "User                     0\n",
       "Card                     0\n",
       "Year                     0\n",
       "Month                    0\n",
       "Day                      0\n",
       "Time                     0\n",
       "Amount                   0\n",
       "Use Chip                 0\n",
       "Merchant Name            0\n",
       "Merchant City            0\n",
       "Merchant State     2720821\n",
       "Zip                2878135\n",
       "MCC                      0\n",
       "Errors?           23998469\n",
       "Is Fraud?                0\n",
       "dtype: int64"
      ]
     },
     "execution_count": 13,
     "metadata": {},
     "output_type": "execute_result"
    }
   ],
   "source": [
    "df.isnull().sum()"
   ]
  },
  {
   "cell_type": "markdown",
   "id": "e287315d",
   "metadata": {},
   "source": [
    "#### Data Info <a class='anchor' id='images'></a> [↑](#top)"
   ]
  },
  {
   "cell_type": "code",
   "execution_count": 14,
   "id": "50642112",
   "metadata": {},
   "outputs": [
    {
     "name": "stdout",
     "output_type": "stream",
     "text": [
      "<class 'pandas.core.frame.DataFrame'>\n",
      "RangeIndex: 24386900 entries, 0 to 24386899\n",
      "Data columns (total 15 columns):\n",
      " #   Column          Dtype  \n",
      "---  ------          -----  \n",
      " 0   User            int64  \n",
      " 1   Card            int64  \n",
      " 2   Year            int64  \n",
      " 3   Month           int64  \n",
      " 4   Day             int64  \n",
      " 5   Time            object \n",
      " 6   Amount          object \n",
      " 7   Use Chip        object \n",
      " 8   Merchant Name   int64  \n",
      " 9   Merchant City   object \n",
      " 10  Merchant State  object \n",
      " 11  Zip             float64\n",
      " 12  MCC             int64  \n",
      " 13  Errors?         object \n",
      " 14  Is Fraud?       object \n",
      "dtypes: float64(1), int64(7), object(7)\n",
      "memory usage: 2.7+ GB\n"
     ]
    }
   ],
   "source": [
    "# Get the information about the dataset - 24M rows, 15 columns, 2.7+ GB\n",
    "df.info()"
   ]
  },
  {
   "cell_type": "markdown",
   "id": "358fb1bc",
   "metadata": {},
   "source": [
    "#### Summary Statistics <a class='anchor' id='images'></a> [↑](#top)"
   ]
  },
  {
   "cell_type": "code",
   "execution_count": 6,
   "id": "583658b7",
   "metadata": {},
   "outputs": [
    {
     "data": {
      "text/html": [
       "<div>\n",
       "<style scoped>\n",
       "    .dataframe tbody tr th:only-of-type {\n",
       "        vertical-align: middle;\n",
       "    }\n",
       "\n",
       "    .dataframe tbody tr th {\n",
       "        vertical-align: top;\n",
       "    }\n",
       "\n",
       "    .dataframe thead th {\n",
       "        text-align: right;\n",
       "    }\n",
       "</style>\n",
       "<table border=\"1\" class=\"dataframe\">\n",
       "  <thead>\n",
       "    <tr style=\"text-align: right;\">\n",
       "      <th></th>\n",
       "      <th>User</th>\n",
       "      <th>Card</th>\n",
       "      <th>Year</th>\n",
       "      <th>Month</th>\n",
       "      <th>Day</th>\n",
       "      <th>Merchant Name</th>\n",
       "      <th>Zip</th>\n",
       "      <th>MCC</th>\n",
       "    </tr>\n",
       "  </thead>\n",
       "  <tbody>\n",
       "    <tr>\n",
       "      <th>count</th>\n",
       "      <td>24386900.00</td>\n",
       "      <td>24386900.00</td>\n",
       "      <td>24386900.00</td>\n",
       "      <td>24386900.00</td>\n",
       "      <td>24386900.00</td>\n",
       "      <td>2.438690e+07</td>\n",
       "      <td>21508765.00</td>\n",
       "      <td>24386900.00</td>\n",
       "    </tr>\n",
       "    <tr>\n",
       "      <th>mean</th>\n",
       "      <td>1001.02</td>\n",
       "      <td>1.35</td>\n",
       "      <td>2011.96</td>\n",
       "      <td>6.53</td>\n",
       "      <td>15.72</td>\n",
       "      <td>-4.769230e+17</td>\n",
       "      <td>50956.44</td>\n",
       "      <td>5561.17</td>\n",
       "    </tr>\n",
       "    <tr>\n",
       "      <th>std</th>\n",
       "      <td>569.46</td>\n",
       "      <td>1.41</td>\n",
       "      <td>5.11</td>\n",
       "      <td>3.47</td>\n",
       "      <td>8.79</td>\n",
       "      <td>4.758940e+18</td>\n",
       "      <td>29397.07</td>\n",
       "      <td>879.32</td>\n",
       "    </tr>\n",
       "    <tr>\n",
       "      <th>min</th>\n",
       "      <td>0.00</td>\n",
       "      <td>0.00</td>\n",
       "      <td>1991.00</td>\n",
       "      <td>1.00</td>\n",
       "      <td>1.00</td>\n",
       "      <td>-9.222899e+18</td>\n",
       "      <td>501.00</td>\n",
       "      <td>1711.00</td>\n",
       "    </tr>\n",
       "    <tr>\n",
       "      <th>25%</th>\n",
       "      <td>510.00</td>\n",
       "      <td>0.00</td>\n",
       "      <td>2008.00</td>\n",
       "      <td>3.00</td>\n",
       "      <td>8.00</td>\n",
       "      <td>-4.500543e+18</td>\n",
       "      <td>28374.00</td>\n",
       "      <td>5300.00</td>\n",
       "    </tr>\n",
       "    <tr>\n",
       "      <th>50%</th>\n",
       "      <td>1006.00</td>\n",
       "      <td>1.00</td>\n",
       "      <td>2013.00</td>\n",
       "      <td>7.00</td>\n",
       "      <td>16.00</td>\n",
       "      <td>-7.946765e+17</td>\n",
       "      <td>46742.00</td>\n",
       "      <td>5499.00</td>\n",
       "    </tr>\n",
       "    <tr>\n",
       "      <th>75%</th>\n",
       "      <td>1477.00</td>\n",
       "      <td>2.00</td>\n",
       "      <td>2016.00</td>\n",
       "      <td>10.00</td>\n",
       "      <td>23.00</td>\n",
       "      <td>3.189517e+18</td>\n",
       "      <td>77564.00</td>\n",
       "      <td>5812.00</td>\n",
       "    </tr>\n",
       "    <tr>\n",
       "      <th>max</th>\n",
       "      <td>1999.00</td>\n",
       "      <td>8.00</td>\n",
       "      <td>2020.00</td>\n",
       "      <td>12.00</td>\n",
       "      <td>31.00</td>\n",
       "      <td>9.223292e+18</td>\n",
       "      <td>99928.00</td>\n",
       "      <td>9402.00</td>\n",
       "    </tr>\n",
       "  </tbody>\n",
       "</table>\n",
       "</div>"
      ],
      "text/plain": [
       "              User         Card         Year        Month          Day  \\\n",
       "count  24386900.00  24386900.00  24386900.00  24386900.00  24386900.00   \n",
       "mean       1001.02         1.35      2011.96         6.53        15.72   \n",
       "std         569.46         1.41         5.11         3.47         8.79   \n",
       "min           0.00         0.00      1991.00         1.00         1.00   \n",
       "25%         510.00         0.00      2008.00         3.00         8.00   \n",
       "50%        1006.00         1.00      2013.00         7.00        16.00   \n",
       "75%        1477.00         2.00      2016.00        10.00        23.00   \n",
       "max        1999.00         8.00      2020.00        12.00        31.00   \n",
       "\n",
       "       Merchant Name          Zip          MCC  \n",
       "count   2.438690e+07  21508765.00  24386900.00  \n",
       "mean   -4.769230e+17     50956.44      5561.17  \n",
       "std     4.758940e+18     29397.07       879.32  \n",
       "min    -9.222899e+18       501.00      1711.00  \n",
       "25%    -4.500543e+18     28374.00      5300.00  \n",
       "50%    -7.946765e+17     46742.00      5499.00  \n",
       "75%     3.189517e+18     77564.00      5812.00  \n",
       "max     9.223292e+18     99928.00      9402.00  "
      ]
     },
     "execution_count": 6,
     "metadata": {},
     "output_type": "execute_result"
    }
   ],
   "source": [
    "# Round to 2 decimal places\n",
    "df.describe().round(2) \n"
   ]
  },
  {
   "cell_type": "markdown",
   "id": "5cfab2f5",
   "metadata": {},
   "source": [
    "#### Distribution of Features <a class='anchor' id='images'></a> [↑](#top)"
   ]
  },
  {
   "cell_type": "code",
   "execution_count": 20,
   "id": "8c99c0db",
   "metadata": {},
   "outputs": [
    {
     "data": {
      "text/plain": [
       "No     24357143\n",
       "Yes       29757\n",
       "Name: Is Fraud?, dtype: int64"
      ]
     },
     "execution_count": 20,
     "metadata": {},
     "output_type": "execute_result"
    }
   ],
   "source": [
    "# Distribution of the target variable\n",
    "df['Is Fraud?'].value_counts()"
   ]
  },
  {
   "cell_type": "markdown",
   "id": "fb4c9329",
   "metadata": {},
   "source": [
    "\n",
    "<div id = 'job_title'\n",
    "     style = \"display: fill;\n",
    "              border-radius: 10px;\n",
    "              background-color: #86cfb1;\">\n",
    "    <h3 style = \"padding: 15px; \n",
    "                 color: White;\n",
    "                 text-align:left;\n",
    "                 font-family: Trebuchet MS;\">2.  Preprocessing\n",
    "    </h3>\n",
    "</div>\n",
    "\n",
    "Data preprocessing is a data mining technique that involves transforming raw data into an understandable format. Real-world data is often incomplete, inconsistent, and/or lacking in certain behaviors or trends, and is likely to contain many errors. "
   ]
  },
  {
   "cell_type": "markdown",
   "id": "d6e246ab",
   "metadata": {},
   "source": [
    "#### Data Imputation <a class='anchor' id='images'></a> [↑](#top)"
   ]
  },
  {
   "cell_type": "code",
   "execution_count": 23,
   "id": "e71cf81d",
   "metadata": {},
   "outputs": [
    {
     "name": "stdout",
     "output_type": "stream",
     "text": [
      "Shape of the dataset: (24386900, 15)\n"
     ]
    },
    {
     "data": {
      "text/plain": [
       "Errors?           23998469\n",
       "Is Fraud?                0\n",
       "MCC                      0\n",
       "Zip                      0\n",
       "Merchant State           0\n",
       "Merchant City            0\n",
       "Merchant Name            0\n",
       "Use Chip                 0\n",
       "Amount                   0\n",
       "Time                     0\n",
       "Day                      0\n",
       "Month                    0\n",
       "Year                     0\n",
       "Card                     0\n",
       "User                     0\n",
       "dtype: int64"
      ]
     },
     "execution_count": 23,
     "metadata": {},
     "output_type": "execute_result"
    }
   ],
   "source": [
    "# Create a function to impute missing values\n",
    "def impute_na(df, variable):\n",
    "    most_frequent_category = df[variable].mode()[0]\n",
    "    df[variable].fillna(most_frequent_category, inplace=True)\n",
    "\n",
    "# Impute missing values\n",
    "for feature in ['Merchant Name', 'Merchant City', 'Merchant State', 'Zip']:\n",
    "    impute_na(df, feature)\n",
    "\n",
    "# Check for missing values\n",
    "print(f'Shape of the dataset: {df.shape}')\n",
    "df.isnull().sum().sort_values(ascending=False)"
   ]
  },
  {
   "cell_type": "markdown",
   "id": "a1d855f9",
   "metadata": {},
   "source": [
    "\n",
    "<div id = 'job_title'\n",
    "     style = \"display: fill;\n",
    "              border-radius: 10px;\n",
    "              background-color: #cf9886;\">\n",
    "    <h3 style = \"padding: 15px; \n",
    "                 color: White;\n",
    "                 text-align:left;\n",
    "                 font-family: Trebuchet MS;\">3.  Feature Engineering\n",
    "    </h3>\n",
    "</div>"
   ]
  },
  {
   "cell_type": "markdown",
   "id": "5bc80b84",
   "metadata": {},
   "source": [
    "\n",
    " Feature `Time` contains the seconds elapsed between each transaction and the first transaction in the dataset. The feature `Amount` is the transaction Amount, this feature can be used for example-dependant cost-senstive learning. Feature  `Class` is the response variable and it takes value `1` in case of fraud and `0` otherwise."
   ]
  },
  {
   "cell_type": "code",
   "execution_count": 7,
   "id": "b1dcb9ea",
   "metadata": {},
   "outputs": [],
   "source": [
    "# Create a function to convert the date to datetime, and extract the month, day, and hour,\n",
    "# and drop the original date column, and convert the target variable to binary, \n",
    "# 1 = Fraud, 0 = Not Fraud, and drop the original target variable, \n",
    "def all_transformations(df):\n",
    "    df['Date'] = pd.to_datetime(df['Date'])\n",
    "    df['Month'] = df['Month'].dt.month\n",
    "    df['Day'] = df['Date'].dt.day\n",
    "    df['Hour'] = df['Time'].dt.hour\n",
    "    df.drop('Date', axis=1, inplace=True)\n",
    "    df['Is Fraud?'] = df['Is Fraud?'].map({'Yes': 1, 'No': 0})\n",
    "    df.drop('Is Fraud?', axis=1, inplace=True)\n",
    "    return df"
   ]
  },
  {
   "cell_type": "code",
   "execution_count": 21,
   "id": "e903c1c8",
   "metadata": {},
   "outputs": [],
   "source": [
    "# Create a function to merge year, month, day, and hour into one column\n",
    "def merge_date(df):\n",
    "    df['Date'] = df['Year'].astype(str) + '-' + df['Month'].astype(str) + '-' + df['Day'].astype(str) + ' ' + df['Time'].astype(str)\n",
    "    df['Date'] = pd.to_datetime(df['Date'])\n",
    "    df.drop(['Year', 'Month', 'Day', 'Time'], axis=1, inplace=True)\n",
    "    return df"
   ]
  },
  {
   "cell_type": "code",
   "execution_count": 22,
   "id": "090d6b26",
   "metadata": {},
   "outputs": [
    {
     "ename": "KeyError",
     "evalue": "'Year'",
     "output_type": "error",
     "traceback": [
      "\u001b[0;31m---------------------------------------------------------------------------\u001b[0m",
      "\u001b[0;31mKeyError\u001b[0m                                  Traceback (most recent call last)",
      "File \u001b[0;32m~/.local/share/virtualenvs/credit_card_transactions-NogY5y93/lib/python3.9/site-packages/pandas/core/indexes/base.py:3629\u001b[0m, in \u001b[0;36mIndex.get_loc\u001b[0;34m(self, key, method, tolerance)\u001b[0m\n\u001b[1;32m   3628\u001b[0m \u001b[39mtry\u001b[39;00m:\n\u001b[0;32m-> 3629\u001b[0m     \u001b[39mreturn\u001b[39;00m \u001b[39mself\u001b[39;49m\u001b[39m.\u001b[39;49m_engine\u001b[39m.\u001b[39;49mget_loc(casted_key)\n\u001b[1;32m   3630\u001b[0m \u001b[39mexcept\u001b[39;00m \u001b[39mKeyError\u001b[39;00m \u001b[39mas\u001b[39;00m err:\n",
      "File \u001b[0;32m~/.local/share/virtualenvs/credit_card_transactions-NogY5y93/lib/python3.9/site-packages/pandas/_libs/index.pyx:136\u001b[0m, in \u001b[0;36mpandas._libs.index.IndexEngine.get_loc\u001b[0;34m()\u001b[0m\n",
      "File \u001b[0;32m~/.local/share/virtualenvs/credit_card_transactions-NogY5y93/lib/python3.9/site-packages/pandas/_libs/index.pyx:163\u001b[0m, in \u001b[0;36mpandas._libs.index.IndexEngine.get_loc\u001b[0;34m()\u001b[0m\n",
      "File \u001b[0;32mpandas/_libs/hashtable_class_helper.pxi:5198\u001b[0m, in \u001b[0;36mpandas._libs.hashtable.PyObjectHashTable.get_item\u001b[0;34m()\u001b[0m\n",
      "File \u001b[0;32mpandas/_libs/hashtable_class_helper.pxi:5206\u001b[0m, in \u001b[0;36mpandas._libs.hashtable.PyObjectHashTable.get_item\u001b[0;34m()\u001b[0m\n",
      "\u001b[0;31mKeyError\u001b[0m: 'Year'",
      "\nThe above exception was the direct cause of the following exception:\n",
      "\u001b[0;31mKeyError\u001b[0m                                  Traceback (most recent call last)",
      "Cell \u001b[0;32mIn [22], line 2\u001b[0m\n\u001b[1;32m      1\u001b[0m \u001b[39m# Check our new date column\u001b[39;00m\n\u001b[0;32m----> 2\u001b[0m df \u001b[39m=\u001b[39m merge_date(df)\n\u001b[1;32m      3\u001b[0m df\u001b[39m.\u001b[39mhead()\n",
      "Cell \u001b[0;32mIn [21], line 3\u001b[0m, in \u001b[0;36mmerge_date\u001b[0;34m(df)\u001b[0m\n\u001b[1;32m      2\u001b[0m \u001b[39mdef\u001b[39;00m \u001b[39mmerge_date\u001b[39m(df):\n\u001b[0;32m----> 3\u001b[0m     df[\u001b[39m'\u001b[39m\u001b[39mDate\u001b[39m\u001b[39m'\u001b[39m] \u001b[39m=\u001b[39m df[\u001b[39m'\u001b[39;49m\u001b[39mYear\u001b[39;49m\u001b[39m'\u001b[39;49m]\u001b[39m.\u001b[39mastype(\u001b[39mstr\u001b[39m) \u001b[39m+\u001b[39m \u001b[39m'\u001b[39m\u001b[39m-\u001b[39m\u001b[39m'\u001b[39m \u001b[39m+\u001b[39m df[\u001b[39m'\u001b[39m\u001b[39mMonth\u001b[39m\u001b[39m'\u001b[39m]\u001b[39m.\u001b[39mastype(\u001b[39mstr\u001b[39m) \u001b[39m+\u001b[39m \u001b[39m'\u001b[39m\u001b[39m-\u001b[39m\u001b[39m'\u001b[39m \u001b[39m+\u001b[39m df[\u001b[39m'\u001b[39m\u001b[39mDay\u001b[39m\u001b[39m'\u001b[39m]\u001b[39m.\u001b[39mastype(\u001b[39mstr\u001b[39m) \u001b[39m+\u001b[39m \u001b[39m'\u001b[39m\u001b[39m \u001b[39m\u001b[39m'\u001b[39m \u001b[39m+\u001b[39m df[\u001b[39m'\u001b[39m\u001b[39mTime\u001b[39m\u001b[39m'\u001b[39m]\u001b[39m.\u001b[39mastype(\u001b[39mstr\u001b[39m)\n\u001b[1;32m      4\u001b[0m     df[\u001b[39m'\u001b[39m\u001b[39mDate\u001b[39m\u001b[39m'\u001b[39m] \u001b[39m=\u001b[39m pd\u001b[39m.\u001b[39mto_datetime(df[\u001b[39m'\u001b[39m\u001b[39mDate\u001b[39m\u001b[39m'\u001b[39m])\n\u001b[1;32m      5\u001b[0m     df\u001b[39m.\u001b[39mdrop([\u001b[39m'\u001b[39m\u001b[39mYear\u001b[39m\u001b[39m'\u001b[39m, \u001b[39m'\u001b[39m\u001b[39mMonth\u001b[39m\u001b[39m'\u001b[39m, \u001b[39m'\u001b[39m\u001b[39mDay\u001b[39m\u001b[39m'\u001b[39m, \u001b[39m'\u001b[39m\u001b[39mTime\u001b[39m\u001b[39m'\u001b[39m], axis\u001b[39m=\u001b[39m\u001b[39m1\u001b[39m, inplace\u001b[39m=\u001b[39m\u001b[39mTrue\u001b[39;00m)\n",
      "File \u001b[0;32m~/.local/share/virtualenvs/credit_card_transactions-NogY5y93/lib/python3.9/site-packages/pandas/core/frame.py:3505\u001b[0m, in \u001b[0;36mDataFrame.__getitem__\u001b[0;34m(self, key)\u001b[0m\n\u001b[1;32m   3503\u001b[0m \u001b[39mif\u001b[39;00m \u001b[39mself\u001b[39m\u001b[39m.\u001b[39mcolumns\u001b[39m.\u001b[39mnlevels \u001b[39m>\u001b[39m \u001b[39m1\u001b[39m:\n\u001b[1;32m   3504\u001b[0m     \u001b[39mreturn\u001b[39;00m \u001b[39mself\u001b[39m\u001b[39m.\u001b[39m_getitem_multilevel(key)\n\u001b[0;32m-> 3505\u001b[0m indexer \u001b[39m=\u001b[39m \u001b[39mself\u001b[39;49m\u001b[39m.\u001b[39;49mcolumns\u001b[39m.\u001b[39;49mget_loc(key)\n\u001b[1;32m   3506\u001b[0m \u001b[39mif\u001b[39;00m is_integer(indexer):\n\u001b[1;32m   3507\u001b[0m     indexer \u001b[39m=\u001b[39m [indexer]\n",
      "File \u001b[0;32m~/.local/share/virtualenvs/credit_card_transactions-NogY5y93/lib/python3.9/site-packages/pandas/core/indexes/base.py:3631\u001b[0m, in \u001b[0;36mIndex.get_loc\u001b[0;34m(self, key, method, tolerance)\u001b[0m\n\u001b[1;32m   3629\u001b[0m     \u001b[39mreturn\u001b[39;00m \u001b[39mself\u001b[39m\u001b[39m.\u001b[39m_engine\u001b[39m.\u001b[39mget_loc(casted_key)\n\u001b[1;32m   3630\u001b[0m \u001b[39mexcept\u001b[39;00m \u001b[39mKeyError\u001b[39;00m \u001b[39mas\u001b[39;00m err:\n\u001b[0;32m-> 3631\u001b[0m     \u001b[39mraise\u001b[39;00m \u001b[39mKeyError\u001b[39;00m(key) \u001b[39mfrom\u001b[39;00m \u001b[39merr\u001b[39;00m\n\u001b[1;32m   3632\u001b[0m \u001b[39mexcept\u001b[39;00m \u001b[39mTypeError\u001b[39;00m:\n\u001b[1;32m   3633\u001b[0m     \u001b[39m# If we have a listlike key, _check_indexing_error will raise\u001b[39;00m\n\u001b[1;32m   3634\u001b[0m     \u001b[39m#  InvalidIndexError. Otherwise we fall through and re-raise\u001b[39;00m\n\u001b[1;32m   3635\u001b[0m     \u001b[39m#  the TypeError.\u001b[39;00m\n\u001b[1;32m   3636\u001b[0m     \u001b[39mself\u001b[39m\u001b[39m.\u001b[39m_check_indexing_error(key)\n",
      "\u001b[0;31mKeyError\u001b[0m: 'Year'"
     ]
    }
   ],
   "source": [
    " # Check our new date column\n",
    "df = merge_date(df)\n",
    "df.head()"
   ]
  },
  {
   "cell_type": "code",
   "execution_count": null,
   "id": "4e68d3ef",
   "metadata": {},
   "outputs": [],
   "source": [
    "# Create a function to encode the categorical variables\n",
    "df['Zip'] = df['Zip'].fillna(0)\n",
    "df['Amount'] = df['Amount'].apply(lambda value: float(value.split(\"$\")[1]))\n",
    "\n",
    "df['Hour'] = df['Time'].apply(lambda value: int(value.split(\":\")[0]))\n",
    "df['Minutes'] = df['Time'].apply(lambda value: int(value.split(\":\")[1]))\n",
    "df.drop(['Time'], axis=1, inplace=True)\n",
    "\n",
    "\n",
    "df['Card'] = df['Card'].astype(\"object\")\n",
    "df['Use Chip'] = df['Use Chip'].astype(\"object\")\n",
    "\n",
    "df['Merchant Name'] = df['Merchant Name'].astype(\"object\")\n",
    "df['MCC'] = df['MCC'].astype(\"object\")\n",
    "df['Zip'] = df['Zip'].astype(\"object\")"
   ]
  },
  {
   "cell_type": "code",
   "execution_count": null,
   "id": "13e19f26",
   "metadata": {},
   "outputs": [],
   "source": [
    "for col in df.columns:\n",
    "    col_type = df[col].dtype\n",
    "    if col_type == 'object' or col_type.name == 'category':\n",
    "        df[col] = df[col].astype('category')"
   ]
  },
  {
   "cell_type": "code",
   "execution_count": null,
   "id": "5c4c7169",
   "metadata": {},
   "outputs": [],
   "source": [
    "# Split our dataset in X and Y\n",
    "#y = df['Is Fraud?']\n",
    "#X = df.drop(['Is Fraud?'],axis=1)"
   ]
  },
  {
   "cell_type": "code",
   "execution_count": null,
   "id": "5f3eba06",
   "metadata": {},
   "outputs": [],
   "source": [
    "categorical_column_names = []\n",
    "categorical_cols = []\n",
    "for idx,col in enumerate(X.columns):\n",
    "    col_type = X[col].dtype\n",
    "    if col_type == 'object' or col_type.name == 'category':\n",
    "        categorical_column_names.append(col)\n",
    "        categorical_cols.append(idx)"
   ]
  },
  {
   "cell_type": "code",
   "execution_count": null,
   "id": "c238f0cf",
   "metadata": {},
   "outputs": [],
   "source": [
    "categorical_column_names.append(\"Zip\")\n",
    "categorical_column_names.append(\"MCC\")\n",
    "categorical_column_names.append(\"Card\")\n",
    "categorical_column_names.append(\"Merchant Name\")"
   ]
  },
  {
   "cell_type": "code",
   "execution_count": null,
   "id": "e0e7a0fd",
   "metadata": {},
   "outputs": [],
   "source": [
    "categorical_names = {}\n",
    "for feature in categorical_column_names:\n",
    "    le = sklearn.preprocessing.LabelEncoder()\n",
    "    le.fit(X.loc[:, feature])\n",
    "    X.loc[:, feature] = le.transform(X.loc[:, feature])\n",
    "    categorical_names[feature] = le.classes_"
   ]
  },
  {
   "cell_type": "markdown",
   "id": "9f563687",
   "metadata": {},
   "source": [
    "\n",
    "<div id = 'job_title'\n",
    "     style = \"display: fill;\n",
    "              border-radius: 10px;\n",
    "              background-color: #6f79d1;\">\n",
    "    <h3 style = \"padding: 15px; \n",
    "                 color: White;\n",
    "                 text-align:left;\n",
    "                 font-family: Trebuchet MS;\">4.  Model Training\n",
    "    </h3>\n",
    "</div>"
   ]
  },
  {
   "cell_type": "code",
   "execution_count": null,
   "id": "19bc1fd5",
   "metadata": {},
   "outputs": [],
   "source": [
    "X_train, X_test, y_train, y_test = train_test_split(X, \n",
    "                                                    y, \n",
    "                                                    test_size=0.3, \n",
    "                                                    random_state=0, \n",
    "                                                    stratify=y)"
   ]
  },
  {
   "cell_type": "code",
   "execution_count": null,
   "id": "22a155ca",
   "metadata": {},
   "outputs": [],
   "source": [
    "# Train our lgbm model\n",
    "model = lgb.LGBMClassifier()\n",
    "model.fit(X_train, y_train,\n",
    "          feature_name='auto',\n",
    "          categorical_feature=categorical_column_names,\n",
    "          eval_set=[(X_test, y_test)],\n",
    "          eval_metric='auc',\n",
    "          early_stopping_rounds=25)"
   ]
  },
  {
   "cell_type": "code",
   "execution_count": null,
   "id": "697acb6a",
   "metadata": {},
   "outputs": [],
   "source": [
    "# Test our predictions on the test set\n",
    "y_pred = model.predict(X_test)"
   ]
  },
  {
   "cell_type": "markdown",
   "id": "b233c1dc",
   "metadata": {},
   "source": [
    "\n",
    "<div id = 'job_title'\n",
    "     style = \"display: fill;\n",
    "              border-radius: 10px;\n",
    "              background-color: #636361;\">\n",
    "    <h3 style = \"padding: 15px; \n",
    "                 color: White;\n",
    "                 text-align:left;\n",
    "                 font-family: Trebuchet MS;\">5. Model Evaluation\n",
    "    </h3>\n",
    "</div>"
   ]
  },
  {
   "cell_type": "code",
   "execution_count": null,
   "id": "7fab2fc2",
   "metadata": {},
   "outputs": [],
   "source": [
    "# Check the classification report\n",
    "print(classification_report(y_test, y_pred))"
   ]
  },
  {
   "cell_type": "code",
   "execution_count": null,
   "id": "93b30ce7",
   "metadata": {},
   "outputs": [],
   "source": [
    "# Plot the feature importance\n",
    "plot_importance(model, figsize=(10, 10))"
   ]
  },
  {
   "cell_type": "code",
   "execution_count": null,
   "id": "e2dc6027",
   "metadata": {},
   "outputs": [],
   "source": [
    "# Plot the ROC curve\n",
    "from sklearn.metrics import confusion_matrix, roc_curve, roc_auc_score, auc\n",
    "fpr, tpr, thresholds = roc_curve(y_test, y_pred)\n",
    "roc_auc = auc(fpr, tpr)\n",
    "plt.figure()\n",
    "plt.plot(fpr, tpr, color='darkorange', lw=2, label='ROC curve (area = %0.2f)' % roc_auc)\n",
    "plt.plot([0, 1], [0, 1], color='navy', lw=2, linestyle='--')\n",
    "plt.xlim([0.0, 1.0])\n",
    "plt.ylim([0.0, 1.05])\n",
    "plt.xlabel('False Positive Rate')\n",
    "plt.ylabel('True Positive Rate')\n",
    "plt.title('Receiver operating characteristic example')\n",
    "plt.legend(loc=\"lower right\")\n",
    "plt.show()"
   ]
  },
  {
   "cell_type": "code",
   "execution_count": null,
   "id": "98cdbba7",
   "metadata": {},
   "outputs": [],
   "source": [
    "# Plot the confusion matrix\n",
    "cm = confusion_matrix(y_test, y_pred)\n",
    "sns.heatmap(cm, annot=True, fmt='d', cmap='Blues')\n",
    "plt.title('Confusion matrix')\n",
    "plt.ylabel('True label')\n",
    "plt.xlabel('Predicted label')\n",
    "plt.show()"
   ]
  },
  {
   "cell_type": "markdown",
   "id": "8c222030",
   "metadata": {},
   "source": [
    "<div id = 'job_title'\n",
    "     style = \"display: fill;\n",
    "              border-radius: 10px;\n",
    "              background-color: #517152;\">\n",
    "    <h3 style = \"padding: 15px; \n",
    "                 color: White;\n",
    "                 text-align:left;\n",
    "                 font-family: Trebuchet MS;\">6.  Conclusion\n",
    "    </h3>\n",
    "</div>"
   ]
  },
  {
   "cell_type": "markdown",
   "id": "6ff4ef20",
   "metadata": {},
   "source": [
    "After training the models, we can see that the **XGBoost** model performed the best with an **AUC** of **0.999**. The **LGBClassifier** model performed the second best with an **AUC** of **0.998**. The **Logistic Regression** model performed the worst with an **AUC** of **0.998**.\n",
    "\n",
    "These values represent the **AUC** of the models on the **test** set. The **AUC** of the models on the **train** set are as follows: **XGBoost** = **0.999**, **LGBClassifier** = **0.999**, **Logistic Regression** = **0.999**. \n",
    "\n",
    "The **AUC** of the models on the **test** set are very close to the **AUC** of the models on the **train** set. This means that the models are not overfitting the data.\n",
    "\n",
    "The values mean that in predicting for is fraud or is not fraud, the model is correct 99.9% of the time, which is desired when working with financial data."
   ]
  },
  {
   "cell_type": "markdown",
   "id": "d52ef7ff",
   "metadata": {},
   "source": [
    "<div id = 'job_title'\n",
    "     style = \"display: fill;\n",
    "              border-radius: 10px;\n",
    "              background-color: #1E72d1;\">\n",
    "    <h3 style = \"padding: 15px; \n",
    "                 color: White;\n",
    "                 text-align:left;\n",
    "                 font-family: Trebuchet MS;\">7.  References\n",
    "    </h3>\n",
    "</div>"
   ]
  }
 ],
 "metadata": {
  "kernelspec": {
   "display_name": "Python 3.9.12 ('credit_card_transactions-NogY5y93')",
   "language": "python",
   "name": "python3"
  },
  "language_info": {
   "codemirror_mode": {
    "name": "ipython",
    "version": 3
   },
   "file_extension": ".py",
   "mimetype": "text/x-python",
   "name": "python",
   "nbconvert_exporter": "python",
   "pygments_lexer": "ipython3",
   "version": "3.9.12"
  },
  "vscode": {
   "interpreter": {
    "hash": "ff53193104b14da9c7a7724cdd7c0eed45e97081ca4daa0f85d881fea8c33866"
   }
  }
 },
 "nbformat": 4,
 "nbformat_minor": 5
}
