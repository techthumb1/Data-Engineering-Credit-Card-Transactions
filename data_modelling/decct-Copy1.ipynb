{
 "cells": [
  {
   "cell_type": "markdown",
   "id": "df9503f2",
   "metadata": {},
   "source": [
    "# Credit Card Transactions"
   ]
  },
  {
   "cell_type": "code",
   "execution_count": 24,
   "id": "d0b4638b",
   "metadata": {},
   "outputs": [],
   "source": [
    "#!pip install tensorflow --upgrade"
   ]
  },
  {
   "cell_type": "code",
   "execution_count": 3,
   "id": "0b0a5aaf",
   "metadata": {},
   "outputs": [],
   "source": [
    "import os\n",
    "os.environ['KMP_DUPLICATE_LIB_OK']='True'\n",
    "import sys\n",
    "import seaborn as sns\n",
    "import pandas as pd\n",
    "import matplotlib.pyplot as plt\n",
    "import lightgbm as lgb\n",
    "import sklearn\n",
    "from sklearn.model_selection import train_test_split\n",
    "from sklearn.metrics import classification_report\n",
    "from lightgbm import plot_importance\n",
    "%matplotlib inline\n",
    "\n",
    "#class SilentRegressor(lgb.LGBMRegressor):\n",
    "#    def fit(self, *args, **kwargs):\n",
    "#        with warnings.catch_warnings():\n",
    "#            warnings.filterwarnings(\"ignore\", category=UserWarning)\n",
    "#            return super().fit(*args, verbose=False, **kwargs)\n",
    "\n",
    "import warnings\n",
    "warnings.filterwarnings(\"ignore\", category=UserWarning)\n",
    "\n",
    "# Set Graph Environment\n",
    "font = {'family':'Helvetica, Ariel',\n",
    "        'weight':'normal',\n",
    "        'size':12}\n",
    "plt.rc('font', **font)\n",
    "sns.set_context('notebook')\n",
    "sns.set_style(\"ticks\")\n",
    "FIG_FONT = dict(family=\"Helvetica, Ariel\", weight=\"bold\", color=\"#7f7f7f\")\n",
    "sns.set_palette(\"Spectral\")"
   ]
  },
  {
   "cell_type": "code",
   "execution_count": null,
   "id": "3f673ef1",
   "metadata": {},
   "outputs": [],
   "source": []
  },
  {
   "cell_type": "code",
   "execution_count": 11,
   "id": "b122e4c9",
   "metadata": {},
   "outputs": [],
   "source": [
    "# \n",
    "cct2 = pd.read_csv('/Users/jasonrobinson/Documents/Projects/AllData/cc-transact-csv/User0_credit_card_transactions.csv')\n",
    "#cct2 =  pd.read_csv('/Users/jasonrobinson/Documents/Projects/All Data/cc-transact-csv/credit_card_transactions-ibm_v2.csv')\n",
    "#cards = pd.read_csv('/Users/jasonrobinson/Documents/Projects/All Data/cc-transact-csv/sd254_cards.csv')\n",
    "#users = pd.read_csv('/Users/jasonrobinson/Documents/Projects/All Data/cc-transact-csv/sd254_users.csv')"
   ]
  },
  {
   "cell_type": "code",
   "execution_count": 5,
   "id": "9a71257c",
   "metadata": {
    "collapsed": true
   },
   "outputs": [
    {
     "ename": "NameError",
     "evalue": "name 'cct2' is not defined",
     "output_type": "error",
     "traceback": [
      "\u001b[0;31m---------------------------------------------------------------------------\u001b[0m",
      "\u001b[0;31mNameError\u001b[0m                                 Traceback (most recent call last)",
      "\u001b[0;32m/var/folders/q3/0g1f31211lbgj741dfjd4r5c0000gn/T/ipykernel_5247/1577648483.py\u001b[0m in \u001b[0;36m<module>\u001b[0;34m\u001b[0m\n\u001b[1;32m      3\u001b[0m       \u001b[0;34m'\\n'\u001b[0m\u001b[0;34m,\u001b[0m\u001b[0;34m\u001b[0m\u001b[0;34m\u001b[0m\u001b[0m\n\u001b[1;32m      4\u001b[0m       \u001b[0;34m'Transactions: -------'\u001b[0m\u001b[0;34m,\u001b[0m \u001b[0mdf\u001b[0m\u001b[0;34m.\u001b[0m\u001b[0mshape\u001b[0m\u001b[0;34m,\u001b[0m\u001b[0;34m'\\n'\u001b[0m\u001b[0;34m,\u001b[0m\u001b[0;34m\u001b[0m\u001b[0;34m\u001b[0m\u001b[0m\n\u001b[0;32m----> 5\u001b[0;31m       \u001b[0;34m'Transactions IBM: ---'\u001b[0m\u001b[0;34m,\u001b[0m\u001b[0mcct2\u001b[0m\u001b[0;34m.\u001b[0m\u001b[0mshape\u001b[0m\u001b[0;34m,\u001b[0m \u001b[0;34m'\\n'\u001b[0m\u001b[0;34m,\u001b[0m\u001b[0;34m\u001b[0m\u001b[0;34m\u001b[0m\u001b[0m\n\u001b[0m\u001b[1;32m      6\u001b[0m       \u001b[0;34m'Cards: --------------'\u001b[0m\u001b[0;34m,\u001b[0m\u001b[0mcards\u001b[0m\u001b[0;34m.\u001b[0m\u001b[0mshape\u001b[0m\u001b[0;34m,\u001b[0m \u001b[0;34m'\\n'\u001b[0m\u001b[0;34m,\u001b[0m\u001b[0;34m\u001b[0m\u001b[0;34m\u001b[0m\u001b[0m\n\u001b[1;32m      7\u001b[0m       'Users: --------------',users.shape )\n",
      "\u001b[0;31mNameError\u001b[0m: name 'cct2' is not defined"
     ]
    }
   ],
   "source": [
    "# Shape of each dataset\n",
    "print('\\n','    *****SHAPE OF DATA*****','\\n',\n",
    "      '\\n',\n",
    "      'Transactions: -------', cct1.shape,'\\n', \n",
    "      'Transactions IBM: ---',cct2.shape, '\\n',\n",
    "      'Cards: --------------',cards.shape, '\\n', \n",
    "      'Users: --------------',users.shape )"
   ]
  },
  {
   "cell_type": "code",
   "execution_count": 12,
   "id": "4eca6160",
   "metadata": {},
   "outputs": [
    {
     "data": {
      "text/html": [
       "<div>\n",
       "<style scoped>\n",
       "    .dataframe tbody tr th:only-of-type {\n",
       "        vertical-align: middle;\n",
       "    }\n",
       "\n",
       "    .dataframe tbody tr th {\n",
       "        vertical-align: top;\n",
       "    }\n",
       "\n",
       "    .dataframe thead th {\n",
       "        text-align: right;\n",
       "    }\n",
       "</style>\n",
       "<table border=\"1\" class=\"dataframe\">\n",
       "  <thead>\n",
       "    <tr style=\"text-align: right;\">\n",
       "      <th></th>\n",
       "      <th>User</th>\n",
       "      <th>Card</th>\n",
       "      <th>Year</th>\n",
       "      <th>Month</th>\n",
       "      <th>Day</th>\n",
       "      <th>Time</th>\n",
       "      <th>Amount</th>\n",
       "      <th>Use Chip</th>\n",
       "      <th>Merchant Name</th>\n",
       "      <th>Merchant City</th>\n",
       "      <th>Merchant State</th>\n",
       "      <th>Zip</th>\n",
       "      <th>MCC</th>\n",
       "      <th>Errors?</th>\n",
       "      <th>Is Fraud?</th>\n",
       "    </tr>\n",
       "  </thead>\n",
       "  <tbody>\n",
       "    <tr>\n",
       "      <th>0</th>\n",
       "      <td>0</td>\n",
       "      <td>0</td>\n",
       "      <td>2002</td>\n",
       "      <td>9</td>\n",
       "      <td>1</td>\n",
       "      <td>06:21</td>\n",
       "      <td>$134.09</td>\n",
       "      <td>Swipe Transaction</td>\n",
       "      <td>3527213246127876953</td>\n",
       "      <td>La Verne</td>\n",
       "      <td>CA</td>\n",
       "      <td>91750.0</td>\n",
       "      <td>5300</td>\n",
       "      <td>NaN</td>\n",
       "      <td>No</td>\n",
       "    </tr>\n",
       "    <tr>\n",
       "      <th>1</th>\n",
       "      <td>0</td>\n",
       "      <td>0</td>\n",
       "      <td>2002</td>\n",
       "      <td>9</td>\n",
       "      <td>1</td>\n",
       "      <td>06:42</td>\n",
       "      <td>$38.48</td>\n",
       "      <td>Swipe Transaction</td>\n",
       "      <td>-727612092139916043</td>\n",
       "      <td>Monterey Park</td>\n",
       "      <td>CA</td>\n",
       "      <td>91754.0</td>\n",
       "      <td>5411</td>\n",
       "      <td>NaN</td>\n",
       "      <td>No</td>\n",
       "    </tr>\n",
       "    <tr>\n",
       "      <th>2</th>\n",
       "      <td>0</td>\n",
       "      <td>0</td>\n",
       "      <td>2002</td>\n",
       "      <td>9</td>\n",
       "      <td>2</td>\n",
       "      <td>06:22</td>\n",
       "      <td>$120.34</td>\n",
       "      <td>Swipe Transaction</td>\n",
       "      <td>-727612092139916043</td>\n",
       "      <td>Monterey Park</td>\n",
       "      <td>CA</td>\n",
       "      <td>91754.0</td>\n",
       "      <td>5411</td>\n",
       "      <td>NaN</td>\n",
       "      <td>No</td>\n",
       "    </tr>\n",
       "    <tr>\n",
       "      <th>3</th>\n",
       "      <td>0</td>\n",
       "      <td>0</td>\n",
       "      <td>2002</td>\n",
       "      <td>9</td>\n",
       "      <td>2</td>\n",
       "      <td>17:45</td>\n",
       "      <td>$128.95</td>\n",
       "      <td>Swipe Transaction</td>\n",
       "      <td>3414527459579106770</td>\n",
       "      <td>Monterey Park</td>\n",
       "      <td>CA</td>\n",
       "      <td>91754.0</td>\n",
       "      <td>5651</td>\n",
       "      <td>NaN</td>\n",
       "      <td>No</td>\n",
       "    </tr>\n",
       "    <tr>\n",
       "      <th>4</th>\n",
       "      <td>0</td>\n",
       "      <td>0</td>\n",
       "      <td>2002</td>\n",
       "      <td>9</td>\n",
       "      <td>3</td>\n",
       "      <td>06:23</td>\n",
       "      <td>$104.71</td>\n",
       "      <td>Swipe Transaction</td>\n",
       "      <td>5817218446178736267</td>\n",
       "      <td>La Verne</td>\n",
       "      <td>CA</td>\n",
       "      <td>91750.0</td>\n",
       "      <td>5912</td>\n",
       "      <td>NaN</td>\n",
       "      <td>No</td>\n",
       "    </tr>\n",
       "  </tbody>\n",
       "</table>\n",
       "</div>"
      ],
      "text/plain": [
       "   User  Card  Year  Month  Day   Time   Amount           Use Chip  \\\n",
       "0     0     0  2002      9    1  06:21  $134.09  Swipe Transaction   \n",
       "1     0     0  2002      9    1  06:42   $38.48  Swipe Transaction   \n",
       "2     0     0  2002      9    2  06:22  $120.34  Swipe Transaction   \n",
       "3     0     0  2002      9    2  17:45  $128.95  Swipe Transaction   \n",
       "4     0     0  2002      9    3  06:23  $104.71  Swipe Transaction   \n",
       "\n",
       "         Merchant Name  Merchant City Merchant State      Zip   MCC Errors?  \\\n",
       "0  3527213246127876953       La Verne             CA  91750.0  5300     NaN   \n",
       "1  -727612092139916043  Monterey Park             CA  91754.0  5411     NaN   \n",
       "2  -727612092139916043  Monterey Park             CA  91754.0  5411     NaN   \n",
       "3  3414527459579106770  Monterey Park             CA  91754.0  5651     NaN   \n",
       "4  5817218446178736267       La Verne             CA  91750.0  5912     NaN   \n",
       "\n",
       "  Is Fraud?  \n",
       "0        No  \n",
       "1        No  \n",
       "2        No  \n",
       "3        No  \n",
       "4        No  "
      ]
     },
     "execution_count": 12,
     "metadata": {},
     "output_type": "execute_result"
    }
   ],
   "source": [
    "cct2.head()"
   ]
  },
  {
   "cell_type": "code",
   "execution_count": 10,
   "id": "6df5289a",
   "metadata": {},
   "outputs": [
    {
     "data": {
      "text/html": [
       "<div>\n",
       "<style scoped>\n",
       "    .dataframe tbody tr th:only-of-type {\n",
       "        vertical-align: middle;\n",
       "    }\n",
       "\n",
       "    .dataframe tbody tr th {\n",
       "        vertical-align: top;\n",
       "    }\n",
       "\n",
       "    .dataframe thead th {\n",
       "        text-align: right;\n",
       "    }\n",
       "</style>\n",
       "<table border=\"1\" class=\"dataframe\">\n",
       "  <thead>\n",
       "    <tr style=\"text-align: right;\">\n",
       "      <th></th>\n",
       "      <th>User</th>\n",
       "      <th>CARD INDEX</th>\n",
       "      <th>Card Brand</th>\n",
       "      <th>Card Type</th>\n",
       "      <th>Card Number</th>\n",
       "      <th>Expires</th>\n",
       "      <th>CVV</th>\n",
       "      <th>Has Chip</th>\n",
       "      <th>Cards Issued</th>\n",
       "      <th>Credit Limit</th>\n",
       "      <th>Acct Open Date</th>\n",
       "      <th>Year PIN last Changed</th>\n",
       "      <th>Card on Dark Web</th>\n",
       "    </tr>\n",
       "  </thead>\n",
       "  <tbody>\n",
       "    <tr>\n",
       "      <th>0</th>\n",
       "      <td>0</td>\n",
       "      <td>0</td>\n",
       "      <td>Visa</td>\n",
       "      <td>Debit</td>\n",
       "      <td>4344676511950444</td>\n",
       "      <td>12/2022</td>\n",
       "      <td>623</td>\n",
       "      <td>YES</td>\n",
       "      <td>2</td>\n",
       "      <td>$24295</td>\n",
       "      <td>09/2002</td>\n",
       "      <td>2008</td>\n",
       "      <td>No</td>\n",
       "    </tr>\n",
       "    <tr>\n",
       "      <th>1</th>\n",
       "      <td>0</td>\n",
       "      <td>1</td>\n",
       "      <td>Visa</td>\n",
       "      <td>Debit</td>\n",
       "      <td>4956965974959986</td>\n",
       "      <td>12/2020</td>\n",
       "      <td>393</td>\n",
       "      <td>YES</td>\n",
       "      <td>2</td>\n",
       "      <td>$21968</td>\n",
       "      <td>04/2014</td>\n",
       "      <td>2014</td>\n",
       "      <td>No</td>\n",
       "    </tr>\n",
       "    <tr>\n",
       "      <th>2</th>\n",
       "      <td>0</td>\n",
       "      <td>2</td>\n",
       "      <td>Visa</td>\n",
       "      <td>Debit</td>\n",
       "      <td>4582313478255491</td>\n",
       "      <td>02/2024</td>\n",
       "      <td>719</td>\n",
       "      <td>YES</td>\n",
       "      <td>2</td>\n",
       "      <td>$46414</td>\n",
       "      <td>07/2003</td>\n",
       "      <td>2004</td>\n",
       "      <td>No</td>\n",
       "    </tr>\n",
       "    <tr>\n",
       "      <th>3</th>\n",
       "      <td>0</td>\n",
       "      <td>3</td>\n",
       "      <td>Visa</td>\n",
       "      <td>Credit</td>\n",
       "      <td>4879494103069057</td>\n",
       "      <td>08/2024</td>\n",
       "      <td>693</td>\n",
       "      <td>NO</td>\n",
       "      <td>1</td>\n",
       "      <td>$12400</td>\n",
       "      <td>01/2003</td>\n",
       "      <td>2012</td>\n",
       "      <td>No</td>\n",
       "    </tr>\n",
       "    <tr>\n",
       "      <th>4</th>\n",
       "      <td>0</td>\n",
       "      <td>4</td>\n",
       "      <td>Mastercard</td>\n",
       "      <td>Debit (Prepaid)</td>\n",
       "      <td>5722874738736011</td>\n",
       "      <td>03/2009</td>\n",
       "      <td>75</td>\n",
       "      <td>YES</td>\n",
       "      <td>1</td>\n",
       "      <td>$28</td>\n",
       "      <td>09/2008</td>\n",
       "      <td>2009</td>\n",
       "      <td>No</td>\n",
       "    </tr>\n",
       "  </tbody>\n",
       "</table>\n",
       "</div>"
      ],
      "text/plain": [
       "   User  CARD INDEX  Card Brand        Card Type       Card Number  Expires  \\\n",
       "0     0           0        Visa            Debit  4344676511950444  12/2022   \n",
       "1     0           1        Visa            Debit  4956965974959986  12/2020   \n",
       "2     0           2        Visa            Debit  4582313478255491  02/2024   \n",
       "3     0           3        Visa           Credit  4879494103069057  08/2024   \n",
       "4     0           4  Mastercard  Debit (Prepaid)  5722874738736011  03/2009   \n",
       "\n",
       "   CVV Has Chip  Cards Issued Credit Limit Acct Open Date  \\\n",
       "0  623      YES             2       $24295        09/2002   \n",
       "1  393      YES             2       $21968        04/2014   \n",
       "2  719      YES             2       $46414        07/2003   \n",
       "3  693       NO             1       $12400        01/2003   \n",
       "4   75      YES             1          $28        09/2008   \n",
       "\n",
       "   Year PIN last Changed Card on Dark Web  \n",
       "0                   2008               No  \n",
       "1                   2014               No  \n",
       "2                   2004               No  \n",
       "3                   2012               No  \n",
       "4                   2009               No  "
      ]
     },
     "execution_count": 10,
     "metadata": {},
     "output_type": "execute_result"
    }
   ],
   "source": [
    "cards.head()"
   ]
  },
  {
   "cell_type": "code",
   "execution_count": 11,
   "id": "40d4e984",
   "metadata": {},
   "outputs": [
    {
     "data": {
      "text/html": [
       "<div>\n",
       "<style scoped>\n",
       "    .dataframe tbody tr th:only-of-type {\n",
       "        vertical-align: middle;\n",
       "    }\n",
       "\n",
       "    .dataframe tbody tr th {\n",
       "        vertical-align: top;\n",
       "    }\n",
       "\n",
       "    .dataframe thead th {\n",
       "        text-align: right;\n",
       "    }\n",
       "</style>\n",
       "<table border=\"1\" class=\"dataframe\">\n",
       "  <thead>\n",
       "    <tr style=\"text-align: right;\">\n",
       "      <th></th>\n",
       "      <th>Person</th>\n",
       "      <th>Current Age</th>\n",
       "      <th>Retirement Age</th>\n",
       "      <th>Birth Year</th>\n",
       "      <th>Birth Month</th>\n",
       "      <th>Gender</th>\n",
       "      <th>Address</th>\n",
       "      <th>Apartment</th>\n",
       "      <th>City</th>\n",
       "      <th>State</th>\n",
       "      <th>Zipcode</th>\n",
       "      <th>Latitude</th>\n",
       "      <th>Longitude</th>\n",
       "      <th>Per Capita Income - Zipcode</th>\n",
       "      <th>Yearly Income - Person</th>\n",
       "      <th>Total Debt</th>\n",
       "      <th>FICO Score</th>\n",
       "      <th>Num Credit Cards</th>\n",
       "    </tr>\n",
       "  </thead>\n",
       "  <tbody>\n",
       "    <tr>\n",
       "      <th>0</th>\n",
       "      <td>Hazel Robinson</td>\n",
       "      <td>53</td>\n",
       "      <td>66</td>\n",
       "      <td>1966</td>\n",
       "      <td>11</td>\n",
       "      <td>Female</td>\n",
       "      <td>462 Rose Lane</td>\n",
       "      <td>NaN</td>\n",
       "      <td>La Verne</td>\n",
       "      <td>CA</td>\n",
       "      <td>91750</td>\n",
       "      <td>34.15</td>\n",
       "      <td>-117.76</td>\n",
       "      <td>$29278</td>\n",
       "      <td>$59696</td>\n",
       "      <td>$127613</td>\n",
       "      <td>787</td>\n",
       "      <td>5</td>\n",
       "    </tr>\n",
       "    <tr>\n",
       "      <th>1</th>\n",
       "      <td>Sasha Sadr</td>\n",
       "      <td>53</td>\n",
       "      <td>68</td>\n",
       "      <td>1966</td>\n",
       "      <td>12</td>\n",
       "      <td>Female</td>\n",
       "      <td>3606 Federal Boulevard</td>\n",
       "      <td>NaN</td>\n",
       "      <td>Little Neck</td>\n",
       "      <td>NY</td>\n",
       "      <td>11363</td>\n",
       "      <td>40.76</td>\n",
       "      <td>-73.74</td>\n",
       "      <td>$37891</td>\n",
       "      <td>$77254</td>\n",
       "      <td>$191349</td>\n",
       "      <td>701</td>\n",
       "      <td>5</td>\n",
       "    </tr>\n",
       "    <tr>\n",
       "      <th>2</th>\n",
       "      <td>Saanvi Lee</td>\n",
       "      <td>81</td>\n",
       "      <td>67</td>\n",
       "      <td>1938</td>\n",
       "      <td>11</td>\n",
       "      <td>Female</td>\n",
       "      <td>766 Third Drive</td>\n",
       "      <td>NaN</td>\n",
       "      <td>West Covina</td>\n",
       "      <td>CA</td>\n",
       "      <td>91792</td>\n",
       "      <td>34.02</td>\n",
       "      <td>-117.89</td>\n",
       "      <td>$22681</td>\n",
       "      <td>$33483</td>\n",
       "      <td>$196</td>\n",
       "      <td>698</td>\n",
       "      <td>5</td>\n",
       "    </tr>\n",
       "    <tr>\n",
       "      <th>3</th>\n",
       "      <td>Everlee Clark</td>\n",
       "      <td>63</td>\n",
       "      <td>63</td>\n",
       "      <td>1957</td>\n",
       "      <td>1</td>\n",
       "      <td>Female</td>\n",
       "      <td>3 Madison Street</td>\n",
       "      <td>NaN</td>\n",
       "      <td>New York</td>\n",
       "      <td>NY</td>\n",
       "      <td>10069</td>\n",
       "      <td>40.71</td>\n",
       "      <td>-73.99</td>\n",
       "      <td>$163145</td>\n",
       "      <td>$249925</td>\n",
       "      <td>$202328</td>\n",
       "      <td>722</td>\n",
       "      <td>4</td>\n",
       "    </tr>\n",
       "    <tr>\n",
       "      <th>4</th>\n",
       "      <td>Kyle Peterson</td>\n",
       "      <td>43</td>\n",
       "      <td>70</td>\n",
       "      <td>1976</td>\n",
       "      <td>9</td>\n",
       "      <td>Male</td>\n",
       "      <td>9620 Valley Stream Drive</td>\n",
       "      <td>NaN</td>\n",
       "      <td>San Francisco</td>\n",
       "      <td>CA</td>\n",
       "      <td>94117</td>\n",
       "      <td>37.76</td>\n",
       "      <td>-122.44</td>\n",
       "      <td>$53797</td>\n",
       "      <td>$109687</td>\n",
       "      <td>$183855</td>\n",
       "      <td>675</td>\n",
       "      <td>1</td>\n",
       "    </tr>\n",
       "  </tbody>\n",
       "</table>\n",
       "</div>"
      ],
      "text/plain": [
       "           Person  Current Age  Retirement Age  Birth Year  Birth Month  \\\n",
       "0  Hazel Robinson           53              66        1966           11   \n",
       "1      Sasha Sadr           53              68        1966           12   \n",
       "2      Saanvi Lee           81              67        1938           11   \n",
       "3   Everlee Clark           63              63        1957            1   \n",
       "4   Kyle Peterson           43              70        1976            9   \n",
       "\n",
       "   Gender                   Address  Apartment           City State  Zipcode  \\\n",
       "0  Female             462 Rose Lane        NaN       La Verne    CA    91750   \n",
       "1  Female    3606 Federal Boulevard        NaN    Little Neck    NY    11363   \n",
       "2  Female           766 Third Drive        NaN    West Covina    CA    91792   \n",
       "3  Female          3 Madison Street        NaN       New York    NY    10069   \n",
       "4    Male  9620 Valley Stream Drive        NaN  San Francisco    CA    94117   \n",
       "\n",
       "   Latitude  Longitude Per Capita Income - Zipcode Yearly Income - Person  \\\n",
       "0     34.15    -117.76                      $29278                 $59696   \n",
       "1     40.76     -73.74                      $37891                 $77254   \n",
       "2     34.02    -117.89                      $22681                 $33483   \n",
       "3     40.71     -73.99                     $163145                $249925   \n",
       "4     37.76    -122.44                      $53797                $109687   \n",
       "\n",
       "  Total Debt  FICO Score  Num Credit Cards  \n",
       "0    $127613         787                 5  \n",
       "1    $191349         701                 5  \n",
       "2       $196         698                 5  \n",
       "3    $202328         722                 4  \n",
       "4    $183855         675                 1  "
      ]
     },
     "execution_count": 11,
     "metadata": {},
     "output_type": "execute_result"
    }
   ],
   "source": [
    "users.head()"
   ]
  },
  {
   "cell_type": "code",
   "execution_count": 1,
   "id": "cfba7996",
   "metadata": {},
   "outputs": [
    {
     "ename": "NameError",
     "evalue": "name 'cct2' is not defined",
     "output_type": "error",
     "traceback": [
      "\u001b[0;31m---------------------------------------------------------------------------\u001b[0m",
      "\u001b[0;31mNameError\u001b[0m                                 Traceback (most recent call last)",
      "\u001b[0;32m/var/folders/q3/0g1f31211lbgj741dfjd4r5c0000gn/T/ipykernel_6870/1810609459.py\u001b[0m in \u001b[0;36m<module>\u001b[0;34m\u001b[0m\n\u001b[0;32m----> 1\u001b[0;31m \u001b[0mcct2\u001b[0m\u001b[0;34m.\u001b[0m\u001b[0misnull\u001b[0m\u001b[0;34m(\u001b[0m\u001b[0;34m)\u001b[0m\u001b[0;34m.\u001b[0m\u001b[0msum\u001b[0m\u001b[0;34m(\u001b[0m\u001b[0;34m)\u001b[0m\u001b[0;34m\u001b[0m\u001b[0;34m\u001b[0m\u001b[0m\n\u001b[0m",
      "\u001b[0;31mNameError\u001b[0m: name 'cct2' is not defined"
     ]
    }
   ],
   "source": [
    "cct2.isnull().sum()"
   ]
  },
  {
   "cell_type": "code",
   "execution_count": 14,
   "id": "c4120bd2",
   "metadata": {},
   "outputs": [],
   "source": [
    "cct2 = cct2.drop(['Merchant State','Errors?'], axis=1)"
   ]
  },
  {
   "cell_type": "code",
   "execution_count": 15,
   "id": "8baf4508",
   "metadata": {},
   "outputs": [
    {
     "data": {
      "text/html": [
       "<div>\n",
       "<style scoped>\n",
       "    .dataframe tbody tr th:only-of-type {\n",
       "        vertical-align: middle;\n",
       "    }\n",
       "\n",
       "    .dataframe tbody tr th {\n",
       "        vertical-align: top;\n",
       "    }\n",
       "\n",
       "    .dataframe thead th {\n",
       "        text-align: right;\n",
       "    }\n",
       "</style>\n",
       "<table border=\"1\" class=\"dataframe\">\n",
       "  <thead>\n",
       "    <tr style=\"text-align: right;\">\n",
       "      <th></th>\n",
       "      <th>User</th>\n",
       "      <th>Card</th>\n",
       "      <th>Year</th>\n",
       "      <th>Month</th>\n",
       "      <th>Day</th>\n",
       "      <th>Time</th>\n",
       "      <th>Amount</th>\n",
       "      <th>Use Chip</th>\n",
       "      <th>Merchant Name</th>\n",
       "      <th>Merchant City</th>\n",
       "      <th>Zip</th>\n",
       "      <th>MCC</th>\n",
       "      <th>Is Fraud?</th>\n",
       "    </tr>\n",
       "  </thead>\n",
       "  <tbody>\n",
       "    <tr>\n",
       "      <th>0</th>\n",
       "      <td>0</td>\n",
       "      <td>0</td>\n",
       "      <td>2002</td>\n",
       "      <td>9</td>\n",
       "      <td>1</td>\n",
       "      <td>06:21</td>\n",
       "      <td>$134.09</td>\n",
       "      <td>Swipe Transaction</td>\n",
       "      <td>3527213246127876953</td>\n",
       "      <td>La Verne</td>\n",
       "      <td>91750.0</td>\n",
       "      <td>5300</td>\n",
       "      <td>No</td>\n",
       "    </tr>\n",
       "    <tr>\n",
       "      <th>1</th>\n",
       "      <td>0</td>\n",
       "      <td>0</td>\n",
       "      <td>2002</td>\n",
       "      <td>9</td>\n",
       "      <td>1</td>\n",
       "      <td>06:42</td>\n",
       "      <td>$38.48</td>\n",
       "      <td>Swipe Transaction</td>\n",
       "      <td>-727612092139916043</td>\n",
       "      <td>Monterey Park</td>\n",
       "      <td>91754.0</td>\n",
       "      <td>5411</td>\n",
       "      <td>No</td>\n",
       "    </tr>\n",
       "    <tr>\n",
       "      <th>2</th>\n",
       "      <td>0</td>\n",
       "      <td>0</td>\n",
       "      <td>2002</td>\n",
       "      <td>9</td>\n",
       "      <td>2</td>\n",
       "      <td>06:22</td>\n",
       "      <td>$120.34</td>\n",
       "      <td>Swipe Transaction</td>\n",
       "      <td>-727612092139916043</td>\n",
       "      <td>Monterey Park</td>\n",
       "      <td>91754.0</td>\n",
       "      <td>5411</td>\n",
       "      <td>No</td>\n",
       "    </tr>\n",
       "    <tr>\n",
       "      <th>3</th>\n",
       "      <td>0</td>\n",
       "      <td>0</td>\n",
       "      <td>2002</td>\n",
       "      <td>9</td>\n",
       "      <td>2</td>\n",
       "      <td>17:45</td>\n",
       "      <td>$128.95</td>\n",
       "      <td>Swipe Transaction</td>\n",
       "      <td>3414527459579106770</td>\n",
       "      <td>Monterey Park</td>\n",
       "      <td>91754.0</td>\n",
       "      <td>5651</td>\n",
       "      <td>No</td>\n",
       "    </tr>\n",
       "    <tr>\n",
       "      <th>4</th>\n",
       "      <td>0</td>\n",
       "      <td>0</td>\n",
       "      <td>2002</td>\n",
       "      <td>9</td>\n",
       "      <td>3</td>\n",
       "      <td>06:23</td>\n",
       "      <td>$104.71</td>\n",
       "      <td>Swipe Transaction</td>\n",
       "      <td>5817218446178736267</td>\n",
       "      <td>La Verne</td>\n",
       "      <td>91750.0</td>\n",
       "      <td>5912</td>\n",
       "      <td>No</td>\n",
       "    </tr>\n",
       "  </tbody>\n",
       "</table>\n",
       "</div>"
      ],
      "text/plain": [
       "   User  Card  Year  Month  Day   Time   Amount           Use Chip  \\\n",
       "0     0     0  2002      9    1  06:21  $134.09  Swipe Transaction   \n",
       "1     0     0  2002      9    1  06:42   $38.48  Swipe Transaction   \n",
       "2     0     0  2002      9    2  06:22  $120.34  Swipe Transaction   \n",
       "3     0     0  2002      9    2  17:45  $128.95  Swipe Transaction   \n",
       "4     0     0  2002      9    3  06:23  $104.71  Swipe Transaction   \n",
       "\n",
       "         Merchant Name  Merchant City      Zip   MCC Is Fraud?  \n",
       "0  3527213246127876953       La Verne  91750.0  5300        No  \n",
       "1  -727612092139916043  Monterey Park  91754.0  5411        No  \n",
       "2  -727612092139916043  Monterey Park  91754.0  5411        No  \n",
       "3  3414527459579106770  Monterey Park  91754.0  5651        No  \n",
       "4  5817218446178736267       La Verne  91750.0  5912        No  "
      ]
     },
     "execution_count": 15,
     "metadata": {},
     "output_type": "execute_result"
    }
   ],
   "source": [
    "cct2.head()"
   ]
  },
  {
   "cell_type": "code",
   "execution_count": 46,
   "id": "a48b9d11",
   "metadata": {},
   "outputs": [
    {
     "data": {
      "text/plain": [
       "array([2002, 2003, 2004, 2005, 2006, 2007, 2008, 2009, 2010, 2011, 2012,\n",
       "       2013, 2014, 2015, 2016, 2017, 2018, 2019, 2020, 1999, 2000, 2001,\n",
       "       1998, 1996, 1997, 1995, 1994, 1991, 1992, 1993])"
      ]
     },
     "execution_count": 46,
     "metadata": {},
     "output_type": "execute_result"
    }
   ],
   "source": [
    "# Merge dataframe\n",
    "pd.groupby('')"
   ]
  },
  {
   "cell_type": "markdown",
   "id": "7df217bf",
   "metadata": {},
   "source": [
    "## Preprocessing"
   ]
  },
  {
   "cell_type": "code",
   "execution_count": 16,
   "id": "54abe100",
   "metadata": {},
   "outputs": [],
   "source": [
    "#\n",
    "df['Zip'] = df['Zip'].fillna(0)\n",
    "df['Amount'] = df['Amount'].apply(lambda value: float(value.split(\"$\")[1]))\n",
    "\n",
    "df['Hour'] = df['Time'].apply(lambda value: int(value.split(\":\")[0]))\n",
    "df['Minutes'] = df['Time'].apply(lambda value: int(value.split(\":\")[1]))\n",
    "df.drop(['Time'], axis=1, inplace=True)\n",
    "\n",
    "\n",
    "df['Card'] = df['Card'].astype(\"object\")\n",
    "df['Use Chip'] = df['Use Chip'].astype(\"object\")\n",
    "\n",
    "df['Merchant Name'] = df['Merchant Name'].astype(\"object\")\n",
    "df['MCC'] = df['MCC'].astype(\"object\")\n",
    "df['Zip'] = df['Zip'].astype(\"object\")"
   ]
  },
  {
   "cell_type": "code",
   "execution_count": 17,
   "id": "a13b54d9",
   "metadata": {},
   "outputs": [],
   "source": [
    "for col in df.columns:\n",
    "    col_type = df[col].dtype\n",
    "    if col_type == 'object' or col_type.name == 'category':\n",
    "        df[col] = df[col].astype('category')"
   ]
  },
  {
   "cell_type": "code",
   "execution_count": 18,
   "id": "1db77ab3",
   "metadata": {},
   "outputs": [],
   "source": [
    "# Split our dataset in X and Y\n",
    "y = df['Is Fraud?']\n",
    "X = df.drop(['Is Fraud?'],axis=1)"
   ]
  },
  {
   "cell_type": "code",
   "execution_count": 19,
   "id": "4f2e9153",
   "metadata": {},
   "outputs": [],
   "source": [
    "categorical_column_names = []\n",
    "categorical_cols = []\n",
    "for idx,col in enumerate(X.columns):\n",
    "    col_type = X[col].dtype\n",
    "    if col_type == 'object' or col_type.name == 'category':\n",
    "        categorical_column_names.append(col)\n",
    "        categorical_cols.append(idx)"
   ]
  },
  {
   "cell_type": "code",
   "execution_count": 20,
   "id": "c378d710",
   "metadata": {},
   "outputs": [],
   "source": [
    "categorical_column_names.append(\"Zip\")\n",
    "categorical_column_names.append(\"MCC\")\n",
    "categorical_column_names.append(\"Card\")\n",
    "categorical_column_names.append(\"Merchant Name\")"
   ]
  },
  {
   "cell_type": "code",
   "execution_count": 21,
   "id": "85a67957",
   "metadata": {},
   "outputs": [],
   "source": [
    "categorical_names = {}\n",
    "for feature in categorical_column_names:\n",
    "    le = sklearn.preprocessing.LabelEncoder()\n",
    "    le.fit(X.loc[:, feature])\n",
    "    X.loc[:, feature] = le.transform(X.loc[:, feature])\n",
    "    categorical_names[feature] = le.classes_"
   ]
  },
  {
   "cell_type": "code",
   "execution_count": 22,
   "id": "1ef79364",
   "metadata": {},
   "outputs": [],
   "source": [
    "X_train, X_test, y_train, y_test = train_test_split(X, \n",
    "                                                    y, \n",
    "                                                    test_size=0.3, \n",
    "                                                    random_state=0, \n",
    "                                                    stratify=y)"
   ]
  },
  {
   "cell_type": "code",
   "execution_count": 23,
   "id": "a72d985c",
   "metadata": {},
   "outputs": [
    {
     "name": "stdout",
     "output_type": "stream",
     "text": [
      "[1]\tvalid_0's auc: 0.800148\tvalid_0's binary_logloss: 0.0227208\n",
      "Training until validation scores don't improve for 25 rounds\n",
      "[2]\tvalid_0's auc: 0.304161\tvalid_0's binary_logloss: 0.033705\n",
      "[3]\tvalid_0's auc: 0.940624\tvalid_0's binary_logloss: 0.035569\n",
      "[4]\tvalid_0's auc: 0.817307\tvalid_0's binary_logloss: 0.0365708\n",
      "[5]\tvalid_0's auc: 0.693206\tvalid_0's binary_logloss: 0.0355954\n",
      "[6]\tvalid_0's auc: 0.797264\tvalid_0's binary_logloss: 0.0394972\n",
      "[7]\tvalid_0's auc: 0.712172\tvalid_0's binary_logloss: 0.0343051\n",
      "[8]\tvalid_0's auc: 0.72722\tvalid_0's binary_logloss: 0.0324788\n",
      "[9]\tvalid_0's auc: 0.730981\tvalid_0's binary_logloss: 0.0321297\n",
      "[10]\tvalid_0's auc: 0.731797\tvalid_0's binary_logloss: 0.0317314\n",
      "[11]\tvalid_0's auc: 0.735517\tvalid_0's binary_logloss: 0.0314323\n",
      "[12]\tvalid_0's auc: 0.745507\tvalid_0's binary_logloss: 0.0311156\n",
      "[13]\tvalid_0's auc: 0.848144\tvalid_0's binary_logloss: 0.0308804\n",
      "[14]\tvalid_0's auc: 0.84713\tvalid_0's binary_logloss: 0.0530996\n",
      "[15]\tvalid_0's auc: 0.856525\tvalid_0's binary_logloss: 0.043444\n",
      "[16]\tvalid_0's auc: 0.859493\tvalid_0's binary_logloss: 0.0415901\n",
      "[17]\tvalid_0's auc: 0.857988\tvalid_0's binary_logloss: 0.0471661\n",
      "[18]\tvalid_0's auc: 0.856776\tvalid_0's binary_logloss: 0.0451216\n",
      "[19]\tvalid_0's auc: 0.856608\tvalid_0's binary_logloss: 0.0445814\n",
      "[20]\tvalid_0's auc: 0.856002\tvalid_0's binary_logloss: 0.044215\n",
      "[21]\tvalid_0's auc: 0.855856\tvalid_0's binary_logloss: 0.0438683\n",
      "[22]\tvalid_0's auc: 0.855835\tvalid_0's binary_logloss: 0.0435744\n",
      "[23]\tvalid_0's auc: 0.855689\tvalid_0's binary_logloss: 0.0433189\n",
      "[24]\tvalid_0's auc: 0.855543\tvalid_0's binary_logloss: 0.0430786\n",
      "[25]\tvalid_0's auc: 0.85502\tvalid_0's binary_logloss: 0.0428647\n",
      "[26]\tvalid_0's auc: 0.854477\tvalid_0's binary_logloss: 0.0426224\n",
      "Early stopping, best iteration is:\n",
      "[1]\tvalid_0's auc: 0.800148\tvalid_0's binary_logloss: 0.0227208\n"
     ]
    },
    {
     "data": {
      "text/html": [
       "<style>#sk-container-id-1 {color: black;background-color: white;}#sk-container-id-1 pre{padding: 0;}#sk-container-id-1 div.sk-toggleable {background-color: white;}#sk-container-id-1 label.sk-toggleable__label {cursor: pointer;display: block;width: 100%;margin-bottom: 0;padding: 0.3em;box-sizing: border-box;text-align: center;}#sk-container-id-1 label.sk-toggleable__label-arrow:before {content: \"▸\";float: left;margin-right: 0.25em;color: #696969;}#sk-container-id-1 label.sk-toggleable__label-arrow:hover:before {color: black;}#sk-container-id-1 div.sk-estimator:hover label.sk-toggleable__label-arrow:before {color: black;}#sk-container-id-1 div.sk-toggleable__content {max-height: 0;max-width: 0;overflow: hidden;text-align: left;background-color: #f0f8ff;}#sk-container-id-1 div.sk-toggleable__content pre {margin: 0.2em;color: black;border-radius: 0.25em;background-color: #f0f8ff;}#sk-container-id-1 input.sk-toggleable__control:checked~div.sk-toggleable__content {max-height: 200px;max-width: 100%;overflow: auto;}#sk-container-id-1 input.sk-toggleable__control:checked~label.sk-toggleable__label-arrow:before {content: \"▾\";}#sk-container-id-1 div.sk-estimator input.sk-toggleable__control:checked~label.sk-toggleable__label {background-color: #d4ebff;}#sk-container-id-1 div.sk-label input.sk-toggleable__control:checked~label.sk-toggleable__label {background-color: #d4ebff;}#sk-container-id-1 input.sk-hidden--visually {border: 0;clip: rect(1px 1px 1px 1px);clip: rect(1px, 1px, 1px, 1px);height: 1px;margin: -1px;overflow: hidden;padding: 0;position: absolute;width: 1px;}#sk-container-id-1 div.sk-estimator {font-family: monospace;background-color: #f0f8ff;border: 1px dotted black;border-radius: 0.25em;box-sizing: border-box;margin-bottom: 0.5em;}#sk-container-id-1 div.sk-estimator:hover {background-color: #d4ebff;}#sk-container-id-1 div.sk-parallel-item::after {content: \"\";width: 100%;border-bottom: 1px solid gray;flex-grow: 1;}#sk-container-id-1 div.sk-label:hover label.sk-toggleable__label {background-color: #d4ebff;}#sk-container-id-1 div.sk-serial::before {content: \"\";position: absolute;border-left: 1px solid gray;box-sizing: border-box;top: 0;bottom: 0;left: 50%;z-index: 0;}#sk-container-id-1 div.sk-serial {display: flex;flex-direction: column;align-items: center;background-color: white;padding-right: 0.2em;padding-left: 0.2em;position: relative;}#sk-container-id-1 div.sk-item {position: relative;z-index: 1;}#sk-container-id-1 div.sk-parallel {display: flex;align-items: stretch;justify-content: center;background-color: white;position: relative;}#sk-container-id-1 div.sk-item::before, #sk-container-id-1 div.sk-parallel-item::before {content: \"\";position: absolute;border-left: 1px solid gray;box-sizing: border-box;top: 0;bottom: 0;left: 50%;z-index: -1;}#sk-container-id-1 div.sk-parallel-item {display: flex;flex-direction: column;z-index: 1;position: relative;background-color: white;}#sk-container-id-1 div.sk-parallel-item:first-child::after {align-self: flex-end;width: 50%;}#sk-container-id-1 div.sk-parallel-item:last-child::after {align-self: flex-start;width: 50%;}#sk-container-id-1 div.sk-parallel-item:only-child::after {width: 0;}#sk-container-id-1 div.sk-dashed-wrapped {border: 1px dashed gray;margin: 0 0.4em 0.5em 0.4em;box-sizing: border-box;padding-bottom: 0.4em;background-color: white;}#sk-container-id-1 div.sk-label label {font-family: monospace;font-weight: bold;display: inline-block;line-height: 1.2em;}#sk-container-id-1 div.sk-label-container {text-align: center;}#sk-container-id-1 div.sk-container {/* jupyter's `normalize.less` sets `[hidden] { display: none; }` but bootstrap.min.css set `[hidden] { display: none !important; }` so we also need the `!important` here to be able to override the default hidden behavior on the sphinx rendered scikit-learn.org. See: https://github.com/scikit-learn/scikit-learn/issues/21755 */display: inline-block !important;position: relative;}#sk-container-id-1 div.sk-text-repr-fallback {display: none;}</style><div id=\"sk-container-id-1\" class=\"sk-top-container\"><div class=\"sk-text-repr-fallback\"><pre>LGBMClassifier()</pre><b>In a Jupyter environment, please rerun this cell to show the HTML representation or trust the notebook. <br />On GitHub, the HTML representation is unable to render, please try loading this page with nbviewer.org.</b></div><div class=\"sk-container\" hidden><div class=\"sk-item\"><div class=\"sk-estimator sk-toggleable\"><input class=\"sk-toggleable__control sk-hidden--visually\" id=\"sk-estimator-id-1\" type=\"checkbox\" checked><label for=\"sk-estimator-id-1\" class=\"sk-toggleable__label sk-toggleable__label-arrow\">LGBMClassifier</label><div class=\"sk-toggleable__content\"><pre>LGBMClassifier()</pre></div></div></div></div></div>"
      ],
      "text/plain": [
       "LGBMClassifier()"
      ]
     },
     "execution_count": 23,
     "metadata": {},
     "output_type": "execute_result"
    }
   ],
   "source": [
    "# Train our lgbm model\n",
    "model = lgb.LGBMClassifier()\n",
    "model.fit(X_train, y_train,\n",
    "          feature_name='auto',\n",
    "          categorical_feature=categorical_column_names,\n",
    "          eval_set=[(X_test, y_test)],\n",
    "          eval_metric='auc',\n",
    "          early_stopping_rounds=25)"
   ]
  },
  {
   "cell_type": "code",
   "execution_count": 24,
   "id": "d1c257f3",
   "metadata": {},
   "outputs": [],
   "source": [
    "y_pred=model.predict(X_test)"
   ]
  },
  {
   "cell_type": "code",
   "execution_count": 25,
   "id": "cc385874",
   "metadata": {},
   "outputs": [
    {
     "name": "stdout",
     "output_type": "stream",
     "text": [
      "              precision    recall  f1-score   support\n",
      "\n",
      "          No       1.00      1.00      1.00      5981\n",
      "         Yes       0.22      0.62      0.32         8\n",
      "\n",
      "    accuracy                           1.00      5989\n",
      "   macro avg       0.61      0.81      0.66      5989\n",
      "weighted avg       1.00      1.00      1.00      5989\n",
      "\n"
     ]
    }
   ],
   "source": [
    "print(classification_report(y_test, y_pred))"
   ]
  },
  {
   "cell_type": "code",
   "execution_count": 26,
   "id": "ff2f6c46",
   "metadata": {},
   "outputs": [
    {
     "data": {
      "image/png": "[encoded data removed]",
      "text/plain": [
       "<Figure size 432x288 with 1 Axes>"
      ]
     },
     "metadata": {},
     "output_type": "display_data"
    }
   ],
   "source": [
    "plot_importance(model);"
   ]
  },
  {
   "cell_type": "code",
   "execution_count": 5,
   "id": "6a237a9c",
   "metadata": {
    "collapsed": true
   },
   "outputs": [
    {
     "ename": "NameError",
     "evalue": "name 'model' is not defined",
     "output_type": "error",
     "traceback": [
      "\u001b[0;31m---------------------------------------------------------------------------\u001b[0m",
      "\u001b[0;31mNameError\u001b[0m                                 Traceback (most recent call last)",
      "\u001b[0;32m/var/folders/q3/0g1f31211lbgj741dfjd4r5c0000gn/T/ipykernel_1840/1405612878.py\u001b[0m in \u001b[0;36m<module>\u001b[0;34m\u001b[0m\n\u001b[1;32m      2\u001b[0m \u001b[0;32mimport\u001b[0m \u001b[0mpickle\u001b[0m\u001b[0;34m\u001b[0m\u001b[0;34m\u001b[0m\u001b[0m\n\u001b[1;32m      3\u001b[0m \u001b[0mclf_model\u001b[0m \u001b[0;34m=\u001b[0m \u001b[0;34m'classification_model2.pkl'\u001b[0m\u001b[0;34m\u001b[0m\u001b[0;34m\u001b[0m\u001b[0m\n\u001b[0;32m----> 4\u001b[0;31m \u001b[0mpickle\u001b[0m\u001b[0;34m.\u001b[0m\u001b[0mdump\u001b[0m\u001b[0;34m(\u001b[0m\u001b[0mmodel\u001b[0m\u001b[0;34m,\u001b[0m \u001b[0mopen\u001b[0m\u001b[0;34m(\u001b[0m\u001b[0mclf_model\u001b[0m\u001b[0;34m,\u001b[0m \u001b[0;34m'wb'\u001b[0m\u001b[0;34m)\u001b[0m\u001b[0;34m)\u001b[0m\u001b[0;34m\u001b[0m\u001b[0;34m\u001b[0m\u001b[0m\n\u001b[0m",
      "\u001b[0;31mNameError\u001b[0m: name 'model' is not defined"
     ]
    }
   ],
   "source": [
    "# Save the model to disk\n",
    "import pickle\n",
    "clf_model = 'classification_model2.pkl'\n",
    "pickle.dump(model, open(clf_model, 'wb'))\n"
   ]
  },
  {
   "cell_type": "code",
   "execution_count": 4,
   "id": "7fab4fc7",
   "metadata": {
    "collapsed": true
   },
   "outputs": [
    {
     "ename": "NameError",
     "evalue": "name 'clf_model' is not defined",
     "output_type": "error",
     "traceback": [
      "\u001b[0;31m---------------------------------------------------------------------------\u001b[0m",
      "\u001b[0;31mNameError\u001b[0m                                 Traceback (most recent call last)",
      "\u001b[0;32m/var/folders/q3/0g1f31211lbgj741dfjd4r5c0000gn/T/ipykernel_1840/2614490363.py\u001b[0m in \u001b[0;36m<module>\u001b[0;34m\u001b[0m\n\u001b[1;32m      1\u001b[0m \u001b[0;31m# Load the model from disk\u001b[0m\u001b[0;34m\u001b[0m\u001b[0;34m\u001b[0m\u001b[0;34m\u001b[0m\u001b[0m\n\u001b[0;32m----> 2\u001b[0;31m \u001b[0mloaded_model\u001b[0m \u001b[0;34m=\u001b[0m \u001b[0mpickle\u001b[0m\u001b[0;34m.\u001b[0m\u001b[0mload\u001b[0m\u001b[0;34m(\u001b[0m\u001b[0mopen\u001b[0m\u001b[0;34m(\u001b[0m\u001b[0mclf_model\u001b[0m\u001b[0;34m,\u001b[0m \u001b[0;34m'rb'\u001b[0m\u001b[0;34m)\u001b[0m\u001b[0;34m)\u001b[0m\u001b[0;34m\u001b[0m\u001b[0;34m\u001b[0m\u001b[0m\n\u001b[0m\u001b[1;32m      3\u001b[0m \u001b[0mresult\u001b[0m \u001b[0;34m=\u001b[0m \u001b[0mloaded_model\u001b[0m\u001b[0;34m.\u001b[0m\u001b[0mscore\u001b[0m\u001b[0;34m(\u001b[0m\u001b[0mX_test\u001b[0m\u001b[0;34m,\u001b[0m \u001b[0my_test\u001b[0m\u001b[0;34m)\u001b[0m\u001b[0;34m\u001b[0m\u001b[0;34m\u001b[0m\u001b[0m\n\u001b[1;32m      4\u001b[0m \u001b[0mprint\u001b[0m\u001b[0;34m(\u001b[0m\u001b[0mresult\u001b[0m\u001b[0;34m)\u001b[0m\u001b[0;34m\u001b[0m\u001b[0;34m\u001b[0m\u001b[0m\n",
      "\u001b[0;31mNameError\u001b[0m: name 'clf_model' is not defined"
     ]
    }
   ],
   "source": [
    "# Load the model from disk\n",
    "loaded_model = pickle.load(open(clf_model, 'rb'))\n",
    "result = loaded_model.score(X_test, y_test)\n",
    "print(result)"
   ]
  },
  {
   "cell_type": "code",
   "execution_count": 38,
   "id": "2dd605b4",
   "metadata": {},
   "outputs": [],
   "source": [
    "# Predict the response for test dataset\n",
    "y_pred = loaded_model.predict(X_test)"
   ]
  },
  {
   "cell_type": "code",
   "execution_count": 27,
   "id": "9185dcf8",
   "metadata": {},
   "outputs": [
    {
     "name": "stdout",
     "output_type": "stream",
     "text": [
      "Accuracy: 0.9964935715478377\n"
     ]
    }
   ],
   "source": [
    "import sklearn.metrics\n",
    "\n",
    "print(\"Accuracy:\",sklearn.metrics.accuracy_score(y_test, y_pred))\n",
    "#print(\"Precision:\",sklearn.metrics.precision_score(y_test, y_pred))\n",
    "#print(\"Recall:\",sklearn.metrics.recall_score(y_test, y_pred))\n",
    "#print(\"F1:\",sklearn.metrics.f1_score(y_test, y_pred))\n",
    "#print(\"ROC:\",sklearn.metrics.roc_auc_score(y_test, y_pred))\n",
    "#print(\"Confusion Matrix:\",sklearn.metrics.confusion_matrix(y_test, y_pred))"
   ]
  },
  {
   "cell_type": "code",
   "execution_count": 28,
   "id": "f23a85d3",
   "metadata": {},
   "outputs": [
    {
     "data": {
      "image/png": "[encoded data removed]",
      "text/plain": [
       "<Figure size 576x576 with 1 Axes>"
      ]
     },
     "metadata": {},
     "output_type": "display_data"
    }
   ],
   "source": [
    "# Create a function to plot the confusion matrix\n",
    "from sklearn.metrics import confusion_matrix\n",
    "from sklearn.metrics import roc_curve, roc_auc_score\n",
    "\n",
    "def plot_confusion_matrix(y_test, y_pred):\n",
    "    cm = confusion_matrix(y_test, y_pred)\n",
    "    fig, ax = plt.subplots(figsize=(8,8))\n",
    "    ax.imshow(cm)\n",
    "    ax.grid(False)\n",
    "    ax.xaxis.set(ticks=(0, 1), ticklabels=('Predicted 0s', 'Predicted 1s'))\n",
    "    ax.yaxis.set(ticks=(0, 1), ticklabels=('Actual 0s', 'Actual 1s'))\n",
    "    ax.set_ylim(1.5, -0.5)\n",
    "    for i in range(2):\n",
    "        for j in range(2):\n",
    "            ax.text(j, i, cm[i, j], ha='center', va='center', color='red')\n",
    "    plt.show()\n",
    "\n",
    "plot_confusion_matrix(y_test, y_pred)"
   ]
  },
  {
   "cell_type": "code",
   "execution_count": 31,
   "id": "907696ce",
   "metadata": {
    "collapsed": true
   },
   "outputs": [
    {
     "ename": "NameError",
     "evalue": "name 'roc_curve' is not defined",
     "output_type": "error",
     "traceback": [
      "\u001b[0;31m---------------------------------------------------------------------------\u001b[0m",
      "\u001b[0;31mNameError\u001b[0m                                 Traceback (most recent call last)",
      "\u001b[0;32m/var/folders/q3/0g1f31211lbgj741dfjd4r5c0000gn/T/ipykernel_2113/1854960516.py\u001b[0m in \u001b[0;36m<module>\u001b[0;34m\u001b[0m\n\u001b[1;32m      9\u001b[0m     \u001b[0mplt\u001b[0m\u001b[0;34m.\u001b[0m\u001b[0mshow\u001b[0m\u001b[0;34m(\u001b[0m\u001b[0;34m)\u001b[0m\u001b[0;34m\u001b[0m\u001b[0;34m\u001b[0m\u001b[0m\n\u001b[1;32m     10\u001b[0m \u001b[0;34m\u001b[0m\u001b[0m\n\u001b[0;32m---> 11\u001b[0;31m \u001b[0mplot_roc_curve\u001b[0m\u001b[0;34m(\u001b[0m\u001b[0my_test\u001b[0m\u001b[0;34m,\u001b[0m \u001b[0my_pred\u001b[0m\u001b[0;34m)\u001b[0m\u001b[0;34m\u001b[0m\u001b[0;34m\u001b[0m\u001b[0m\n\u001b[0m",
      "\u001b[0;32m/var/folders/q3/0g1f31211lbgj741dfjd4r5c0000gn/T/ipykernel_2113/1854960516.py\u001b[0m in \u001b[0;36mplot_roc_curve\u001b[0;34m(y_test, y_pred)\u001b[0m\n\u001b[1;32m      1\u001b[0m \u001b[0;31m# Create a function to plot the ROC curve\u001b[0m\u001b[0;34m\u001b[0m\u001b[0;34m\u001b[0m\u001b[0;34m\u001b[0m\u001b[0m\n\u001b[1;32m      2\u001b[0m \u001b[0;32mdef\u001b[0m \u001b[0mplot_roc_curve\u001b[0m\u001b[0;34m(\u001b[0m\u001b[0my_test\u001b[0m\u001b[0;34m,\u001b[0m \u001b[0my_pred\u001b[0m\u001b[0;34m)\u001b[0m\u001b[0;34m:\u001b[0m\u001b[0;34m\u001b[0m\u001b[0;34m\u001b[0m\u001b[0m\n\u001b[0;32m----> 3\u001b[0;31m     \u001b[0mfpr\u001b[0m\u001b[0;34m,\u001b[0m \u001b[0mtpr\u001b[0m\u001b[0;34m,\u001b[0m \u001b[0mthresholds\u001b[0m \u001b[0;34m=\u001b[0m \u001b[0mroc_curve\u001b[0m\u001b[0;34m(\u001b[0m\u001b[0my_test\u001b[0m\u001b[0;34m,\u001b[0m \u001b[0my_pred\u001b[0m\u001b[0;34m)\u001b[0m\u001b[0;34m\u001b[0m\u001b[0;34m\u001b[0m\u001b[0m\n\u001b[0m\u001b[1;32m      4\u001b[0m     \u001b[0mplt\u001b[0m\u001b[0;34m.\u001b[0m\u001b[0mplot\u001b[0m\u001b[0;34m(\u001b[0m\u001b[0mfpr\u001b[0m\u001b[0;34m,\u001b[0m \u001b[0mtpr\u001b[0m\u001b[0;34m,\u001b[0m \u001b[0mlabel\u001b[0m\u001b[0;34m=\u001b[0m\u001b[0;34m'ROC'\u001b[0m\u001b[0;34m)\u001b[0m\u001b[0;34m\u001b[0m\u001b[0;34m\u001b[0m\u001b[0m\n\u001b[1;32m      5\u001b[0m     \u001b[0mplt\u001b[0m\u001b[0;34m.\u001b[0m\u001b[0mplot\u001b[0m\u001b[0;34m(\u001b[0m\u001b[0;34m[\u001b[0m\u001b[0;36m0\u001b[0m\u001b[0;34m,\u001b[0m \u001b[0;36m1\u001b[0m\u001b[0;34m]\u001b[0m\u001b[0;34m,\u001b[0m \u001b[0;34m[\u001b[0m\u001b[0;36m0\u001b[0m\u001b[0;34m,\u001b[0m \u001b[0;36m1\u001b[0m\u001b[0;34m]\u001b[0m\u001b[0;34m,\u001b[0m \u001b[0;34m'k--'\u001b[0m\u001b[0;34m)\u001b[0m\u001b[0;34m\u001b[0m\u001b[0;34m\u001b[0m\u001b[0m\n",
      "\u001b[0;31mNameError\u001b[0m: name 'roc_curve' is not defined"
     ]
    }
   ],
   "source": [
    "# Create a function to plot the ROC curve\n",
    "def plot_roc_curve(y_test, y_pred):\n",
    "    fpr, tpr, thresholds = roc_curve(y_test, y_pred)\n",
    "    plt.plot(fpr, tpr, label='ROC')\n",
    "    plt.plot([0, 1], [0, 1], 'k--')\n",
    "    plt.xlabel('False Positive Rate')\n",
    "    plt.ylabel('True Positive Rate')\n",
    "    plt.title('ROC Curve')\n",
    "    plt.show()\n",
    "    \n",
    "plot_roc_curve(y_test, y_pred)"
   ]
  },
  {
   "cell_type": "code",
   "execution_count": null,
   "id": "08888844",
   "metadata": {},
   "outputs": [],
   "source": []
  }
 ],
 "metadata": {
  "kernelspec": {
   "display_name": "NNse",
   "language": "python",
   "name": "u4-s1-nns"
  },
  "language_info": {
   "codemirror_mode": {
    "name": "ipython",
    "version": 3
   },
   "file_extension": ".py",
   "mimetype": "text/x-python",
   "name": "python",
   "nbconvert_exporter": "python",
   "pygments_lexer": "ipython3",
   "version": "3.8.5"
  }
 },
 "nbformat": 4,
 "nbformat_minor": 5
}
